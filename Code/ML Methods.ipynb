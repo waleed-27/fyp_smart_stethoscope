{
  "cells": [
    {
      "cell_type": "code",
      "execution_count": null,
      "id": "720d627a",
      "metadata": {
        "id": "720d627a"
      },
      "outputs": [],
      "source": [
        "import librosa\n",
        "import librosa.display\n",
        "import IPython.display as ipd\n",
        "import matplotlib.pyplot as plt\n",
        "import numpy as np\n",
        "import pandas as pd\n",
        "from sklearn.preprocessing import StandardScaler\n",
        "from sklearn.model_selection import train_test_split\n",
        "import noisereduce as nr\n",
        "from sklearn.decomposition import PCA\n",
        "import numpy as np\n",
        "from sklearn import preprocessing\n",
        "import python_speech_features as mf\n",
        "import pandas as pd\n",
        "import os"
      ]
    },
    {
      "cell_type": "code",
      "execution_count": null,
      "id": "1a040f8e",
      "metadata": {
        "id": "1a040f8e"
      },
      "outputs": [],
      "source": [
        "audio_dataset_path=r\"Dataset\"\n",
        "metadata=pd.read_csv(r\"REFERENCE.csv\",names = ['file','label'])"
      ]
    },
    {
      "cell_type": "code",
      "execution_count": null,
      "id": "3f506bc2",
      "metadata": {
        "id": "3f506bc2",
        "outputId": "5414a88e-3f12-4b00-a3c1-e653ac3adea0"
      },
      "outputs": [
        {
          "data": {
            "text/html": [
              "<div>\n",
              "<style scoped>\n",
              "    .dataframe tbody tr th:only-of-type {\n",
              "        vertical-align: middle;\n",
              "    }\n",
              "\n",
              "    .dataframe tbody tr th {\n",
              "        vertical-align: top;\n",
              "    }\n",
              "\n",
              "    .dataframe thead th {\n",
              "        text-align: right;\n",
              "    }\n",
              "</style>\n",
              "<table border=\"1\" class=\"dataframe\">\n",
              "  <thead>\n",
              "    <tr style=\"text-align: right;\">\n",
              "      <th></th>\n",
              "      <th>file</th>\n",
              "      <th>label</th>\n",
              "    </tr>\n",
              "  </thead>\n",
              "  <tbody>\n",
              "    <tr>\n",
              "      <th>0</th>\n",
              "      <td>a0001</td>\n",
              "      <td>1</td>\n",
              "    </tr>\n",
              "    <tr>\n",
              "      <th>1</th>\n",
              "      <td>a0002</td>\n",
              "      <td>1</td>\n",
              "    </tr>\n",
              "    <tr>\n",
              "      <th>2</th>\n",
              "      <td>a0003</td>\n",
              "      <td>1</td>\n",
              "    </tr>\n",
              "    <tr>\n",
              "      <th>3</th>\n",
              "      <td>a0004</td>\n",
              "      <td>1</td>\n",
              "    </tr>\n",
              "    <tr>\n",
              "      <th>4</th>\n",
              "      <td>a0005</td>\n",
              "      <td>1</td>\n",
              "    </tr>\n",
              "    <tr>\n",
              "      <th>...</th>\n",
              "      <td>...</td>\n",
              "      <td>...</td>\n",
              "    </tr>\n",
              "    <tr>\n",
              "      <th>3215</th>\n",
              "      <td>f0090</td>\n",
              "      <td>1</td>\n",
              "    </tr>\n",
              "    <tr>\n",
              "      <th>3218</th>\n",
              "      <td>f0093</td>\n",
              "      <td>1</td>\n",
              "    </tr>\n",
              "    <tr>\n",
              "      <th>3221</th>\n",
              "      <td>f0096</td>\n",
              "      <td>1</td>\n",
              "    </tr>\n",
              "    <tr>\n",
              "      <th>3224</th>\n",
              "      <td>f0099</td>\n",
              "      <td>1</td>\n",
              "    </tr>\n",
              "    <tr>\n",
              "      <th>3228</th>\n",
              "      <td>f0103</td>\n",
              "      <td>1</td>\n",
              "    </tr>\n",
              "  </tbody>\n",
              "</table>\n",
              "<p>665 rows × 2 columns</p>\n",
              "</div>"
            ],
            "text/plain": [
              "       file  label\n",
              "0     a0001      1\n",
              "1     a0002      1\n",
              "2     a0003      1\n",
              "3     a0004      1\n",
              "4     a0005      1\n",
              "...     ...    ...\n",
              "3215  f0090      1\n",
              "3218  f0093      1\n",
              "3221  f0096      1\n",
              "3224  f0099      1\n",
              "3228  f0103      1\n",
              "\n",
              "[665 rows x 2 columns]"
            ]
          },
          "execution_count": 4,
          "metadata": {},
          "output_type": "execute_result"
        }
      ],
      "source": [
        "metadata[metadata.label==1]"
      ]
    },
    {
      "cell_type": "code",
      "execution_count": null,
      "id": "6f214c7d",
      "metadata": {
        "id": "6f214c7d"
      },
      "outputs": [],
      "source": [
        "def feature_1(file):\n",
        "    audio,sr = librosa.load(file)\n",
        "    zcr = librosa.zero_crossings(audio)\n",
        "    zcr = sum(zcr)\n",
        "    data = pd.DataFrame([zcr],columns=['A'])\n",
        "    return data"
      ]
    },
    {
      "cell_type": "code",
      "execution_count": null,
      "id": "43e6add8",
      "metadata": {
        "id": "43e6add8"
      },
      "outputs": [],
      "source": [
        "def feature_2(file):\n",
        "    audio,sr = librosa.load(file)\n",
        "    #mfcc=np.mean(librosa.feature.mfcc(audio,sr = sr,n_mfcc=12).T,axis=0)\n",
        "    mfcc_feature =np.mean(mf.mfcc(audio,sr, 0.025, 0.01,12,nfft = 1200, appendEnergy = True),axis = 0)     \n",
        "    #mfcc_feature = preprocessing.scale(mfcc_feature)\n",
        "    mfcc = pd.DataFrame(mfcc_feature)\n",
        "    #df1 = pd.DataFrame(mfcc)\n",
        "    #df1 = df1.T\n",
        "    mfcc = mfcc.T\n",
        "    return mfcc"
      ]
    },
    {
      "cell_type": "code",
      "execution_count": null,
      "id": "752e325d",
      "metadata": {
        "id": "752e325d"
      },
      "outputs": [],
      "source": [
        "def feature_3(file):\n",
        "    audio,sr = librosa.load(file)\n",
        "    chromagram =np.mean(librosa.feature.chroma_stft(audio, sr=sr, hop_length=512),axis=1)  \n",
        "    cr = pd.DataFrame(chromagram)\n",
        "    #df1 = pd.DataFrame(mfcc)\n",
        "    #df1 = df1.T\n",
        "    cr = cr.T\n",
        "    return cr"
      ]
    },
    {
      "cell_type": "code",
      "execution_count": null,
      "id": "e2a9af58",
      "metadata": {
        "id": "e2a9af58"
      },
      "outputs": [],
      "source": [
        "data_1 = pd.DataFrame()\n",
        "data_2 = pd.DataFrame()\n",
        "data_3 = pd.DataFrame()"
      ]
    },
    {
      "cell_type": "code",
      "execution_count": null,
      "id": "dcc7533e",
      "metadata": {
        "id": "dcc7533e",
        "outputId": "b2e17e8e-0983-414d-f3da-adf211bea80d"
      },
      "outputs": [
        {
          "name": "stderr",
          "output_type": "stream",
          "text": [
            "4it [00:19,  4.54s/it]E:\\Program Files\\Python\\lib\\site-packages\\librosa\\core\\pitch.py:153: UserWarning: Trying to estimate tuning from empty frequency set.\n",
            "  warnings.warn(\"Trying to estimate tuning from empty frequency set.\")\n",
            "207it [15:42,  4.27s/it]"
          ]
        }
      ],
      "source": [
        "data_1 = pd.DataFrame()\n",
        "data_2 = pd.DataFrame()\n",
        "data_3 = pd.DataFrame()\n",
        "#parser function works!!!!!\n",
        "import numpy as np\n",
        "from tqdm import tqdm\n",
        "### Now we iterate through every audio file and extract features \n",
        "### using Mel-Frequency Cepstral Coefficients\n",
        "\n",
        "for index_num,row in tqdm(metadata.iterrows()):\n",
        "    file_name = os.path.join(os.path.abspath(audio_dataset_path),str(row[\"file\"])+'.wav')\n",
        "    temp_1 = feature_1(file_name)\n",
        "    temp_2 = feature_2(file_name)\n",
        "    temp_3 = feature_3(file_name)\n",
        "    data_1 = data_1.append(temp_1)\n",
        "    data_2 = data_2.append(temp_2)\n",
        "    data_3 = data_3.append(temp_3)"
      ]
    },
    {
      "cell_type": "code",
      "execution_count": null,
      "id": "57d3c4c2",
      "metadata": {
        "id": "57d3c4c2",
        "outputId": "dc1cf867-bada-4e33-d86a-bce4bc9de22d"
      },
      "outputs": [
        {
          "data": {
            "text/html": [
              "<div>\n",
              "<style scoped>\n",
              "    .dataframe tbody tr th:only-of-type {\n",
              "        vertical-align: middle;\n",
              "    }\n",
              "\n",
              "    .dataframe tbody tr th {\n",
              "        vertical-align: top;\n",
              "    }\n",
              "\n",
              "    .dataframe thead th {\n",
              "        text-align: right;\n",
              "    }\n",
              "</style>\n",
              "<table border=\"1\" class=\"dataframe\">\n",
              "  <thead>\n",
              "    <tr style=\"text-align: right;\">\n",
              "      <th></th>\n",
              "      <th>A</th>\n",
              "    </tr>\n",
              "  </thead>\n",
              "  <tbody>\n",
              "    <tr>\n",
              "      <th>0</th>\n",
              "      <td>4556</td>\n",
              "    </tr>\n",
              "    <tr>\n",
              "      <th>0</th>\n",
              "      <td>3311</td>\n",
              "    </tr>\n",
              "    <tr>\n",
              "      <th>0</th>\n",
              "      <td>2184</td>\n",
              "    </tr>\n",
              "    <tr>\n",
              "      <th>0</th>\n",
              "      <td>2869</td>\n",
              "    </tr>\n",
              "    <tr>\n",
              "      <th>0</th>\n",
              "      <td>2522</td>\n",
              "    </tr>\n",
              "    <tr>\n",
              "      <th>...</th>\n",
              "      <td>...</td>\n",
              "    </tr>\n",
              "    <tr>\n",
              "      <th>0</th>\n",
              "      <td>1040</td>\n",
              "    </tr>\n",
              "    <tr>\n",
              "      <th>0</th>\n",
              "      <td>3624</td>\n",
              "    </tr>\n",
              "    <tr>\n",
              "      <th>0</th>\n",
              "      <td>2728</td>\n",
              "    </tr>\n",
              "    <tr>\n",
              "      <th>0</th>\n",
              "      <td>1952</td>\n",
              "    </tr>\n",
              "    <tr>\n",
              "      <th>0</th>\n",
              "      <td>2317</td>\n",
              "    </tr>\n",
              "  </tbody>\n",
              "</table>\n",
              "<p>409 rows × 1 columns</p>\n",
              "</div>"
            ],
            "text/plain": [
              "       A\n",
              "0   4556\n",
              "0   3311\n",
              "0   2184\n",
              "0   2869\n",
              "0   2522\n",
              "..   ...\n",
              "0   1040\n",
              "0   3624\n",
              "0   2728\n",
              "0   1952\n",
              "0   2317\n",
              "\n",
              "[409 rows x 1 columns]"
            ]
          },
          "execution_count": 17,
          "metadata": {},
          "output_type": "execute_result"
        }
      ],
      "source": [
        "data_1"
      ]
    },
    {
      "cell_type": "code",
      "execution_count": null,
      "id": "d80b22a3",
      "metadata": {
        "id": "d80b22a3"
      },
      "outputs": [],
      "source": [
        "result = pd.concat([data_1,data_2,data_3], axis=1, ignore_index=True)\n"
      ]
    },
    {
      "cell_type": "code",
      "execution_count": null,
      "id": "75cad54a",
      "metadata": {
        "id": "75cad54a"
      },
      "outputs": [],
      "source": [
        "result.to_csv('result.csv', index=False)"
      ]
    },
    {
      "cell_type": "code",
      "execution_count": null,
      "id": "f005bdbd",
      "metadata": {
        "id": "f005bdbd"
      },
      "outputs": [],
      "source": [
        "result=pd.read_csv('result.csv')\n",
        "result.columns =result.columns.astype(int)\n"
      ]
    },
    {
      "cell_type": "code",
      "execution_count": null,
      "id": "bc2035e7",
      "metadata": {
        "id": "bc2035e7"
      },
      "outputs": [],
      "source": [
        "#metadata=pd.read_csv(r\"Project\\data.csv\",names = ['file','fold','label'])"
      ]
    },
    {
      "cell_type": "code",
      "execution_count": null,
      "id": "1907b4d9",
      "metadata": {
        "id": "1907b4d9"
      },
      "outputs": [],
      "source": [
        "label = metadata['label']"
      ]
    },
    {
      "cell_type": "code",
      "execution_count": null,
      "id": "7b49aa2c",
      "metadata": {
        "id": "7b49aa2c",
        "outputId": "a5c5ee04-c6d8-4dc3-df89-5157bc437d9b"
      },
      "outputs": [
        {
          "data": {
            "text/plain": [
              "array([0.02406129, 0.03196684, 0.00116312, 0.06781247, 0.05888958,\n",
              "       0.04265933, 0.02105569, 0.0479184 , 0.06562446, 0.0538081 ,\n",
              "       0.02475763, 0.01717168, 0.04044707, 0.        , 0.04929566,\n",
              "       0.01926901, 0.        , 0.04920135, 0.01463723, 0.00316901,\n",
              "       0.02069477, 0.042626  , 0.0186197 , 0.01444482, 0.02575753])"
            ]
          },
          "execution_count": 23,
          "metadata": {},
          "output_type": "execute_result"
        }
      ],
      "source": [
        "from sklearn.feature_selection import mutual_info_classif\n",
        "# determine the mutual information\n",
        "mutual_info = mutual_info_classif(result,label)\n",
        "mutual_info"
      ]
    },
    {
      "cell_type": "code",
      "execution_count": null,
      "id": "4784156f",
      "metadata": {
        "id": "4784156f",
        "outputId": "d03fb672-2909-4652-ba56-c759afc3c32b"
      },
      "outputs": [
        {
          "data": {
            "text/plain": [
              "3     0.067812\n",
              "8     0.065624\n",
              "4     0.058890\n",
              "9     0.053808\n",
              "14    0.049296\n",
              "17    0.049201\n",
              "7     0.047918\n",
              "5     0.042659\n",
              "21    0.042626\n",
              "12    0.040447\n",
              "1     0.031967\n",
              "24    0.025758\n",
              "10    0.024758\n",
              "0     0.024061\n",
              "6     0.021056\n",
              "20    0.020695\n",
              "15    0.019269\n",
              "22    0.018620\n",
              "11    0.017172\n",
              "18    0.014637\n",
              "23    0.014445\n",
              "19    0.003169\n",
              "2     0.001163\n",
              "13    0.000000\n",
              "16    0.000000\n",
              "dtype: float64"
            ]
          },
          "execution_count": 24,
          "metadata": {},
          "output_type": "execute_result"
        }
      ],
      "source": [
        "mutual_info = pd.Series(mutual_info)\n",
        "mutual_info.index = result.columns\n",
        "mutual_info.sort_values(ascending=False)"
      ]
    },
    {
      "cell_type": "code",
      "execution_count": null,
      "id": "cd3d9f7d",
      "metadata": {
        "id": "cd3d9f7d"
      },
      "outputs": [],
      "source": [
        "x_train,x_test,y_train,y_test = train_test_split(result[[3, 8, 4, 9, 14, 17]],label,test_size=0.2,random_state=0)"
      ]
    },
    {
      "cell_type": "code",
      "execution_count": null,
      "id": "796442fd",
      "metadata": {
        "id": "796442fd"
      },
      "outputs": [],
      "source": [
        "from sklearn.naive_bayes import GaussianNB\n",
        "from sklearn.neighbors import KNeighborsClassifier\n",
        "from sklearn.linear_model import LogisticRegression\n",
        "from sklearn.ensemble import GradientBoostingClassifier\n",
        "from sklearn.svm import SVC\n",
        "from sklearn.ensemble import RandomForestClassifier\n",
        "from sklearn.tree import DecisionTreeClassifier\n",
        "from sklearn.metrics import accuracy_score"
      ]
    },
    {
      "cell_type": "code",
      "execution_count": null,
      "id": "160569c2",
      "metadata": {
        "scrolled": false,
        "id": "160569c2",
        "outputId": "a603eae1-ba13-417a-ad7e-8f371a1abd07"
      },
      "outputs": [
        {
          "name": "stdout",
          "output_type": "stream",
          "text": [
            "==============================\n",
            "KNeighborsClassifier\n",
            "****Results****\n",
            "Accuracy: 62.1951%\n",
            "Log Loss: 2.9857877230350116\n",
            "==============================\n",
            "SVC\n",
            "****Results****\n",
            "Accuracy: 70.7317%\n",
            "Log Loss: 0.5570882838564251\n",
            "==============================\n",
            "DecisionTreeClassifier\n",
            "****Results****\n",
            "Accuracy: 69.5122%\n",
            "Log Loss: 10.53011475454594\n",
            "==============================\n",
            "RandomForestClassifier\n",
            "****Results****\n",
            "Accuracy: 75.6098%\n",
            "Log Loss: 0.5049864418131292\n",
            "==============================\n",
            "AdaBoostClassifier\n",
            "****Results****\n",
            "Accuracy: 74.3902%\n",
            "Log Loss: 0.6611332662454502\n",
            "==============================\n",
            "GradientBoostingClassifier\n",
            "****Results****\n",
            "Accuracy: 81.7073%\n",
            "Log Loss: 0.48465263615219206\n",
            "==============================\n",
            "GaussianNB\n",
            "****Results****\n",
            "Accuracy: 57.3171%\n",
            "Log Loss: 0.7355528184268023\n",
            "==============================\n",
            "LinearDiscriminantAnalysis\n",
            "****Results****\n",
            "Accuracy: 76.8293%\n",
            "Log Loss: 0.5026758982769205\n",
            "==============================\n",
            "QuadraticDiscriminantAnalysis\n",
            "****Results****\n",
            "Accuracy: 67.0732%\n",
            "Log Loss: 0.6275750526355764\n",
            "==============================\n"
          ]
        }
      ],
      "source": [
        "from sklearn.metrics import accuracy_score, log_loss\n",
        "from sklearn.neighbors import KNeighborsClassifier\n",
        "from sklearn.svm import SVC, LinearSVC, NuSVC\n",
        "from sklearn.tree import DecisionTreeClassifier\n",
        "from sklearn.ensemble import RandomForestClassifier, AdaBoostClassifier, GradientBoostingClassifier\n",
        "from sklearn.naive_bayes import GaussianNB\n",
        "from sklearn.discriminant_analysis import LinearDiscriminantAnalysis\n",
        "from sklearn.discriminant_analysis import QuadraticDiscriminantAnalysis\n",
        "\n",
        "classifiers = [\n",
        "    KNeighborsClassifier(3),\n",
        "    SVC(kernel=\"rbf\", C=0.025, probability=True),\n",
        "    DecisionTreeClassifier(),\n",
        "    RandomForestClassifier(),\n",
        "    AdaBoostClassifier(),\n",
        "    GradientBoostingClassifier(),\n",
        "    GaussianNB(),\n",
        "    LinearDiscriminantAnalysis(),\n",
        "    QuadraticDiscriminantAnalysis()]\n",
        "\n",
        "# Logging for Visual Comparison\n",
        "log_cols=[\"Classifier\", \"Accuracy\", \"Log Loss\"]\n",
        "log = pd.DataFrame(columns=log_cols)\n",
        "\n",
        "for clf in classifiers:\n",
        "    clf.fit(x_train, y_train)\n",
        "    name = clf.__class__.__name__\n",
        "    \n",
        "    print(\"=\"*30)\n",
        "    print(name)\n",
        "    \n",
        "    print('****Results****')\n",
        "    train_predictions = clf.predict(x_test)\n",
        "    acc = accuracy_score(y_test, train_predictions)\n",
        "    print(\"Accuracy: {:.4%}\".format(acc))\n",
        "    \n",
        "    train_predictions = clf.predict_proba(x_test)\n",
        "    ll = log_loss(y_test, train_predictions)\n",
        "    print(\"Log Loss: {}\".format(ll))\n",
        "    \n",
        "    log_entry = pd.DataFrame([[name, acc*100, ll]], columns=log_cols)\n",
        "    log = log.append(log_entry)\n",
        "    \n",
        "\n",
        "    \n",
        "print(\"=\"*30)"
      ]
    },
    {
      "cell_type": "code",
      "execution_count": null,
      "id": "3e60f21a",
      "metadata": {
        "id": "3e60f21a",
        "outputId": "c47484e8-8c9d-4f1e-f096-eb7a91ebec9c"
      },
      "outputs": [
        {
          "name": "stdout",
          "output_type": "stream",
          "text": [
            "0.8170731707317073\n"
          ]
        }
      ],
      "source": [
        "model = GradientBoostingClassifier()\n",
        "model.fit(x_train,y_train)\n",
        "y_pred = model.predict(x_test)\n",
        "print(accuracy_score(y_pred, y_test))"
      ]
    },
    {
      "cell_type": "code",
      "execution_count": null,
      "id": "3030a46e",
      "metadata": {
        "id": "3030a46e",
        "outputId": "6fdccc25-225f-4597-8b13-21a630e5ad41"
      },
      "outputs": [
        {
          "data": {
            "text/plain": [
              "<sklearn.metrics._plot.confusion_matrix.ConfusionMatrixDisplay at 0x1e238629a30>"
            ]
          },
          "execution_count": 31,
          "metadata": {},
          "output_type": "execute_result"
        },
        {
          "data": {
            "image/png": "[encoded data removed]",
            "text/plain": [
              "<Figure size 432x288 with 2 Axes>"
            ]
          },
          "metadata": {
            "needs_background": "light"
          },
          "output_type": "display_data"
        }
      ],
      "source": [
        "from sklearn.metrics import confusion_matrix, ConfusionMatrixDisplay\n",
        "ConfusionMatrixDisplay.from_predictions(y_pred,y_test)"
      ]
    },
    {
      "cell_type": "code",
      "execution_count": null,
      "id": "6cd9fa3b",
      "metadata": {
        "id": "6cd9fa3b",
        "outputId": "e70aab86-3971-4ac3-e20d-b7c6fb06e065"
      },
      "outputs": [
        {
          "data": {
            "image/png": "[encoded data removed]",
            "text/plain": [
              "<Figure size 432x288 with 1 Axes>"
            ]
          },
          "metadata": {
            "needs_background": "light"
          },
          "output_type": "display_data"
        },
        {
          "data": {
            "image/png": "[encoded data removed]",
            "text/plain": [
              "<Figure size 432x288 with 1 Axes>"
            ]
          },
          "metadata": {
            "needs_background": "light"
          },
          "output_type": "display_data"
        }
      ],
      "source": [
        "import seaborn as sns\n",
        "sns.set_color_codes(\"muted\")\n",
        "sns.barplot(x='Accuracy', y='Classifier', data=log, color=\"b\")\n",
        "\n",
        "plt.xlabel('Accuracy %')\n",
        "plt.title('Classifier Accuracy')\n",
        "plt.show()\n",
        "\n",
        "sns.set_color_codes(\"muted\")\n",
        "sns.barplot(x='Log Loss', y='Classifier', data=log, color=\"g\")\n",
        "\n",
        "plt.xlabel('Log Loss')\n",
        "plt.title('Classifier Log Loss')\n",
        "plt.show()"
      ]
    },
    {
      "cell_type": "code",
      "execution_count": null,
      "id": "c7da132d",
      "metadata": {
        "id": "c7da132d",
        "outputId": "bdc71737-bb5d-4e23-a49a-3b9cb0a0eeab"
      },
      "outputs": [
        {
          "data": {
            "text/plain": [
              "Int64Index([3, 4, 7, 8, 9], dtype='int64')"
            ]
          },
          "execution_count": 33,
          "metadata": {},
          "output_type": "execute_result"
        }
      ],
      "source": [
        "from sklearn.feature_selection import RFE\n",
        "rfe_selector = RFE(estimator=RandomForestClassifier(),n_features_to_select = 5, step = 100)\n",
        "rfe_selector.fit(result, label)\n",
        "result.columns[rfe_selector.get_support()]"
      ]
    },
    {
      "cell_type": "code",
      "execution_count": null,
      "id": "86f4876f",
      "metadata": {
        "id": "86f4876f",
        "outputId": "62d04815-042c-4047-e19b-a110058bbd27"
      },
      "outputs": [
        {
          "data": {
            "text/plain": [
              "Int64Index([0, 1, 5, 6, 7, 10, 11, 12, 18], dtype='int64')"
            ]
          },
          "execution_count": 33,
          "metadata": {},
          "output_type": "execute_result"
        }
      ],
      "source": [
        "from sklearn.feature_selection import SelectFromModel\n",
        "# #Selecting the Best important features according to Logistic Regression using SelectFromModel\n",
        "sfm_selector = SelectFromModel(estimator=RandomForestClassifier())\n",
        "sfm_selector.fit(result, label)\n",
        "result.columns[sfm_selector.get_support()]"
      ]
    },
    {
      "cell_type": "code",
      "execution_count": null,
      "id": "336739db",
      "metadata": {
        "id": "336739db",
        "outputId": "e5a274a5-1ab9-445e-e72d-2cbc925924c0"
      },
      "outputs": [
        {
          "data": {
            "text/plain": [
              "Int64Index([0, 4, 10], dtype='int64')"
            ]
          },
          "execution_count": 37,
          "metadata": {},
          "output_type": "execute_result"
        }
      ],
      "source": [
        "from sklearn.feature_selection import SequentialFeatureSelector\n",
        "#Selecting the Best important features according to Logistic Regression\n",
        "sfs_selector = SequentialFeatureSelector(estimator=RandomForestClassifier(), n_features_to_select = 3, cv =10, direction ='backward')\n",
        "sfs_selector.fit(result, label)\n",
        "result.columns[sfs_selector.get_support()]"
      ]
    },
    {
      "cell_type": "code",
      "execution_count": null,
      "id": "f34c69e9",
      "metadata": {
        "id": "f34c69e9"
      },
      "outputs": [],
      "source": [
        ""
      ]
    }
  ],
  "metadata": {
    "kernelspec": {
      "display_name": "Python 3 (ipykernel)",
      "language": "python",
      "name": "python3"
    },
    "language_info": {
      "codemirror_mode": {
        "name": "ipython",
        "version": 3
      },
      "file_extension": ".py",
      "mimetype": "text/x-python",
      "name": "python",
      "nbconvert_exporter": "python",
      "pygments_lexer": "ipython3",
      "version": "3.9.7"
    },
    "colab": {
      "name": "Project-Copy1.ipynb",
      "provenance": [],
      "collapsed_sections": []
    }
  },
  "nbformat": 4,
  "nbformat_minor": 5
}