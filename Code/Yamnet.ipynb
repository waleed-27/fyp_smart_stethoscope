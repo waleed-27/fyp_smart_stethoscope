{
  "cells": [
    {
      "cell_type": "code",
      "execution_count": null,
      "metadata": {
        "id": "2ZGroy0GroiM",
        "colab": {
          "base_uri": "https://localhost:8080/",
          "height": 1000
        },
        "outputId": "d1ae835a-e175-4ff3-9502-69a82a8b297f"
      },
      "outputs": [
        {
          "output_type": "stream",
          "name": "stdout",
          "text": [
            "Looking in indexes: https://pypi.org/simple, https://us-python.pkg.dev/colab-wheels/public/simple/\n",
            "Collecting tflite-model-maker\n",
            "  Downloading tflite_model_maker-0.4.0-py3-none-any.whl (642 kB)\n",
            "\u001b[K     |████████████████████████████████| 642 kB 33.2 MB/s \n",
            "\u001b[?25hRequirement already satisfied: tensorflow in /usr/local/lib/python3.7/dist-packages (2.8.2+zzzcolab20220527125636)\n",
            "Collecting PyYAML>=5.1\n",
            "  Downloading PyYAML-6.0-cp37-cp37m-manylinux_2_5_x86_64.manylinux1_x86_64.manylinux_2_12_x86_64.manylinux2010_x86_64.whl (596 kB)\n",
            "\u001b[K     |████████████████████████████████| 596 kB 52.8 MB/s \n",
            "\u001b[?25hCollecting tensorflow-model-optimization>=0.5\n",
            "  Downloading tensorflow_model_optimization-0.7.2-py2.py3-none-any.whl (237 kB)\n",
            "\u001b[K     |████████████████████████████████| 237 kB 66.1 MB/s \n",
            "\u001b[?25hCollecting numba==0.53\n",
            "  Downloading numba-0.53.0-cp37-cp37m-manylinux2014_x86_64.whl (3.4 MB)\n",
            "\u001b[K     |████████████████████████████████| 3.4 MB 61.8 MB/s \n",
            "\u001b[?25hCollecting scann>=1.2.6\n",
            "  Downloading scann-1.2.7-cp37-cp37m-manylinux_2_27_x86_64.whl (11.2 MB)\n",
            "\u001b[K     |████████████████████████████████| 11.2 MB 59.1 MB/s \n",
            "\u001b[?25hRequirement already satisfied: tensorflow-datasets>=2.1.0 in /usr/local/lib/python3.7/dist-packages (from tflite-model-maker) (4.0.1)\n",
            "Requirement already satisfied: numpy>=1.17.3 in /usr/local/lib/python3.7/dist-packages (from tflite-model-maker) (1.21.6)\n",
            "Collecting fire>=0.3.1\n",
            "  Downloading fire-0.4.0.tar.gz (87 kB)\n",
            "\u001b[K     |████████████████████████████████| 87 kB 8.5 MB/s \n",
            "\u001b[?25hCollecting sentencepiece>=0.1.91\n",
            "  Downloading sentencepiece-0.1.96-cp37-cp37m-manylinux_2_17_x86_64.manylinux2014_x86_64.whl (1.2 MB)\n",
            "\u001b[K     |████████████████████████████████| 1.2 MB 65.2 MB/s \n",
            "\u001b[?25hRequirement already satisfied: tensorflow-hub<0.13,>=0.7.0 in /usr/local/lib/python3.7/dist-packages (from tflite-model-maker) (0.12.0)\n",
            "Collecting flatbuffers==1.12\n",
            "  Downloading flatbuffers-1.12-py2.py3-none-any.whl (15 kB)\n",
            "Requirement already satisfied: Cython>=0.29.13 in /usr/local/lib/python3.7/dist-packages (from tflite-model-maker) (0.29.30)\n",
            "Requirement already satisfied: librosa==0.8.1 in /usr/local/lib/python3.7/dist-packages (from tflite-model-maker) (0.8.1)\n",
            "Requirement already satisfied: urllib3!=1.25.0,!=1.25.1,<1.26,>=1.21.1 in /usr/local/lib/python3.7/dist-packages (from tflite-model-maker) (1.24.3)\n",
            "Collecting tensorflow-addons>=0.11.2\n",
            "  Downloading tensorflow_addons-0.17.1-cp37-cp37m-manylinux_2_17_x86_64.manylinux2014_x86_64.whl (1.1 MB)\n",
            "\u001b[K     |████████████████████████████████| 1.1 MB 66.1 MB/s \n",
            "\u001b[?25hCollecting tflite-support>=0.4.0\n",
            "  Downloading tflite_support-0.4.1-cp37-cp37m-manylinux2014_x86_64.whl (42.5 MB)\n",
            "\u001b[K     |████████████████████████████████| 42.5 MB 1.7 MB/s \n",
            "\u001b[?25hCollecting lxml>=4.6.1\n",
            "  Downloading lxml-4.9.0-cp37-cp37m-manylinux_2_17_x86_64.manylinux2014_x86_64.manylinux_2_24_x86_64.whl (6.4 MB)\n",
            "\u001b[K     |████████████████████████████████| 6.4 MB 62.5 MB/s \n",
            "\u001b[?25hRequirement already satisfied: six>=1.12.0 in /usr/local/lib/python3.7/dist-packages (from tflite-model-maker) (1.15.0)\n",
            "Requirement already satisfied: matplotlib<3.5.0,>=3.0.3 in /usr/local/lib/python3.7/dist-packages (from tflite-model-maker) (3.2.2)\n",
            "Collecting tf-models-official==2.3.0\n",
            "  Downloading tf_models_official-2.3.0-py2.py3-none-any.whl (840 kB)\n",
            "\u001b[K     |████████████████████████████████| 840 kB 59.0 MB/s \n",
            "\u001b[?25hRequirement already satisfied: pillow>=7.0.0 in /usr/local/lib/python3.7/dist-packages (from tflite-model-maker) (7.1.2)\n",
            "Collecting tensorflowjs>=2.4.0\n",
            "  Downloading tensorflowjs-3.18.0-py3-none-any.whl (77 kB)\n",
            "\u001b[K     |████████████████████████████████| 77 kB 8.2 MB/s \n",
            "\u001b[?25hRequirement already satisfied: absl-py>=0.10.0 in /usr/local/lib/python3.7/dist-packages (from tflite-model-maker) (1.1.0)\n",
            "Collecting neural-structured-learning>=1.3.1\n",
            "  Downloading neural_structured_learning-1.3.1-py2.py3-none-any.whl (120 kB)\n",
            "\u001b[K     |████████████████████████████████| 120 kB 76.0 MB/s \n",
            "\u001b[?25hRequirement already satisfied: pooch>=1.0 in /usr/local/lib/python3.7/dist-packages (from librosa==0.8.1->tflite-model-maker) (1.6.0)\n",
            "Requirement already satisfied: packaging>=20.0 in /usr/local/lib/python3.7/dist-packages (from librosa==0.8.1->tflite-model-maker) (21.3)\n",
            "Requirement already satisfied: joblib>=0.14 in /usr/local/lib/python3.7/dist-packages (from librosa==0.8.1->tflite-model-maker) (1.1.0)\n",
            "Requirement already satisfied: scipy>=1.0.0 in /usr/local/lib/python3.7/dist-packages (from librosa==0.8.1->tflite-model-maker) (1.4.1)\n",
            "Requirement already satisfied: scikit-learn!=0.19.0,>=0.14.0 in /usr/local/lib/python3.7/dist-packages (from librosa==0.8.1->tflite-model-maker) (1.0.2)\n",
            "Requirement already satisfied: decorator>=3.0.0 in /usr/local/lib/python3.7/dist-packages (from librosa==0.8.1->tflite-model-maker) (4.4.2)\n",
            "Requirement already satisfied: resampy>=0.2.2 in /usr/local/lib/python3.7/dist-packages (from librosa==0.8.1->tflite-model-maker) (0.2.2)\n",
            "Requirement already satisfied: soundfile>=0.10.2 in /usr/local/lib/python3.7/dist-packages (from librosa==0.8.1->tflite-model-maker) (0.10.3.post1)\n",
            "Requirement already satisfied: audioread>=2.0.0 in /usr/local/lib/python3.7/dist-packages (from librosa==0.8.1->tflite-model-maker) (2.1.9)\n",
            "Collecting llvmlite<0.37,>=0.36.0rc1\n",
            "  Downloading llvmlite-0.36.0-cp37-cp37m-manylinux2010_x86_64.whl (25.3 MB)\n",
            "\u001b[K     |████████████████████████████████| 25.3 MB 1.4 MB/s \n",
            "\u001b[?25hRequirement already satisfied: setuptools in /usr/local/lib/python3.7/dist-packages (from numba==0.53->tflite-model-maker) (57.4.0)\n",
            "Collecting py-cpuinfo>=3.3.0\n",
            "  Downloading py-cpuinfo-8.0.0.tar.gz (99 kB)\n",
            "\u001b[K     |████████████████████████████████| 99 kB 11.9 MB/s \n",
            "\u001b[?25hRequirement already satisfied: kaggle>=1.3.9 in /usr/local/lib/python3.7/dist-packages (from tf-models-official==2.3.0->tflite-model-maker) (1.5.12)\n",
            "Collecting dataclasses\n",
            "  Downloading dataclasses-0.6-py3-none-any.whl (14 kB)\n",
            "Requirement already satisfied: google-api-python-client>=1.6.7 in /usr/local/lib/python3.7/dist-packages (from tf-models-official==2.3.0->tflite-model-maker) (1.12.11)\n",
            "Requirement already satisfied: gin-config in /usr/local/lib/python3.7/dist-packages (from tf-models-official==2.3.0->tflite-model-maker) (0.5.0)\n",
            "Requirement already satisfied: google-cloud-bigquery>=0.31.0 in /usr/local/lib/python3.7/dist-packages (from tf-models-official==2.3.0->tflite-model-maker) (1.21.0)\n",
            "Collecting tf-slim>=1.1.0\n",
            "  Downloading tf_slim-1.1.0-py2.py3-none-any.whl (352 kB)\n",
            "\u001b[K     |████████████████████████████████| 352 kB 67.5 MB/s \n",
            "\u001b[?25hRequirement already satisfied: psutil>=5.4.3 in /usr/local/lib/python3.7/dist-packages (from tf-models-official==2.3.0->tflite-model-maker) (5.4.8)\n",
            "Collecting opencv-python-headless\n",
            "  Downloading opencv_python_headless-4.6.0.66-cp36-abi3-manylinux_2_17_x86_64.manylinux2014_x86_64.whl (48.3 MB)\n",
            "\u001b[K     |████████████████████████████████| 48.3 MB 1.3 MB/s \n",
            "\u001b[?25hRequirement already satisfied: pandas>=0.22.0 in /usr/local/lib/python3.7/dist-packages (from tf-models-official==2.3.0->tflite-model-maker) (1.3.5)\n",
            "Requirement already satisfied: tensorflow-io-gcs-filesystem>=0.23.1 in /usr/local/lib/python3.7/dist-packages (from tensorflow) (0.26.0)\n",
            "Requirement already satisfied: protobuf<3.20,>=3.9.2 in /usr/local/lib/python3.7/dist-packages (from tensorflow) (3.17.3)\n",
            "Requirement already satisfied: h5py>=2.9.0 in /usr/local/lib/python3.7/dist-packages (from tensorflow) (3.1.0)\n",
            "Requirement already satisfied: termcolor>=1.1.0 in /usr/local/lib/python3.7/dist-packages (from tensorflow) (1.1.0)\n",
            "Requirement already satisfied: tensorflow-estimator<2.9,>=2.8 in /usr/local/lib/python3.7/dist-packages (from tensorflow) (2.8.0)\n",
            "Requirement already satisfied: tensorboard<2.9,>=2.8 in /usr/local/lib/python3.7/dist-packages (from tensorflow) (2.8.0)\n",
            "Requirement already satisfied: astunparse>=1.6.0 in /usr/local/lib/python3.7/dist-packages (from tensorflow) (1.6.3)\n",
            "Requirement already satisfied: google-pasta>=0.1.1 in /usr/local/lib/python3.7/dist-packages (from tensorflow) (0.2.0)\n",
            "Requirement already satisfied: grpcio<2.0,>=1.24.3 in /usr/local/lib/python3.7/dist-packages (from tensorflow) (1.46.3)\n",
            "Requirement already satisfied: libclang>=9.0.1 in /usr/local/lib/python3.7/dist-packages (from tensorflow) (14.0.1)\n",
            "Requirement already satisfied: typing-extensions>=3.6.6 in /usr/local/lib/python3.7/dist-packages (from tensorflow) (4.2.0)\n",
            "Requirement already satisfied: keras<2.9,>=2.8.0rc0 in /usr/local/lib/python3.7/dist-packages (from tensorflow) (2.8.0)\n",
            "Requirement already satisfied: gast>=0.2.1 in /usr/local/lib/python3.7/dist-packages (from tensorflow) (0.5.3)\n",
            "Requirement already satisfied: wrapt>=1.11.0 in /usr/local/lib/python3.7/dist-packages (from tensorflow) (1.14.1)\n",
            "Requirement already satisfied: keras-preprocessing>=1.1.1 in /usr/local/lib/python3.7/dist-packages (from tensorflow) (1.1.2)\n",
            "Requirement already satisfied: opt-einsum>=2.3.2 in /usr/local/lib/python3.7/dist-packages (from tensorflow) (3.3.0)\n",
            "Requirement already satisfied: wheel<1.0,>=0.23.0 in /usr/local/lib/python3.7/dist-packages (from astunparse>=1.6.0->tensorflow) (0.37.1)\n",
            "Requirement already satisfied: google-auth-httplib2>=0.0.3 in /usr/local/lib/python3.7/dist-packages (from google-api-python-client>=1.6.7->tf-models-official==2.3.0->tflite-model-maker) (0.0.4)\n",
            "Requirement already satisfied: google-auth<3dev,>=1.16.0 in /usr/local/lib/python3.7/dist-packages (from google-api-python-client>=1.6.7->tf-models-official==2.3.0->tflite-model-maker) (1.35.0)\n",
            "Requirement already satisfied: google-api-core<3dev,>=1.21.0 in /usr/local/lib/python3.7/dist-packages (from google-api-python-client>=1.6.7->tf-models-official==2.3.0->tflite-model-maker) (1.31.6)\n",
            "Requirement already satisfied: httplib2<1dev,>=0.15.0 in /usr/local/lib/python3.7/dist-packages (from google-api-python-client>=1.6.7->tf-models-official==2.3.0->tflite-model-maker) (0.17.4)\n",
            "Requirement already satisfied: uritemplate<4dev,>=3.0.0 in /usr/local/lib/python3.7/dist-packages (from google-api-python-client>=1.6.7->tf-models-official==2.3.0->tflite-model-maker) (3.0.1)\n",
            "Requirement already satisfied: pytz in /usr/local/lib/python3.7/dist-packages (from google-api-core<3dev,>=1.21.0->google-api-python-client>=1.6.7->tf-models-official==2.3.0->tflite-model-maker) (2022.1)\n",
            "Requirement already satisfied: googleapis-common-protos<2.0dev,>=1.6.0 in /usr/local/lib/python3.7/dist-packages (from google-api-core<3dev,>=1.21.0->google-api-python-client>=1.6.7->tf-models-official==2.3.0->tflite-model-maker) (1.56.2)\n",
            "Requirement already satisfied: requests<3.0.0dev,>=2.18.0 in /usr/local/lib/python3.7/dist-packages (from google-api-core<3dev,>=1.21.0->google-api-python-client>=1.6.7->tf-models-official==2.3.0->tflite-model-maker) (2.23.0)\n",
            "Requirement already satisfied: cachetools<5.0,>=2.0.0 in /usr/local/lib/python3.7/dist-packages (from google-auth<3dev,>=1.16.0->google-api-python-client>=1.6.7->tf-models-official==2.3.0->tflite-model-maker) (4.2.4)\n",
            "Requirement already satisfied: rsa<5,>=3.1.4 in /usr/local/lib/python3.7/dist-packages (from google-auth<3dev,>=1.16.0->google-api-python-client>=1.6.7->tf-models-official==2.3.0->tflite-model-maker) (4.8)\n",
            "Requirement already satisfied: pyasn1-modules>=0.2.1 in /usr/local/lib/python3.7/dist-packages (from google-auth<3dev,>=1.16.0->google-api-python-client>=1.6.7->tf-models-official==2.3.0->tflite-model-maker) (0.2.8)\n",
            "Requirement already satisfied: google-cloud-core<2.0dev,>=1.0.3 in /usr/local/lib/python3.7/dist-packages (from google-cloud-bigquery>=0.31.0->tf-models-official==2.3.0->tflite-model-maker) (1.0.3)\n",
            "Requirement already satisfied: google-resumable-media!=0.4.0,<0.5.0dev,>=0.3.1 in /usr/local/lib/python3.7/dist-packages (from google-cloud-bigquery>=0.31.0->tf-models-official==2.3.0->tflite-model-maker) (0.4.1)\n",
            "Requirement already satisfied: cached-property in /usr/local/lib/python3.7/dist-packages (from h5py>=2.9.0->tensorflow) (1.5.2)\n",
            "Requirement already satisfied: python-dateutil in /usr/local/lib/python3.7/dist-packages (from kaggle>=1.3.9->tf-models-official==2.3.0->tflite-model-maker) (2.8.2)\n",
            "Requirement already satisfied: certifi in /usr/local/lib/python3.7/dist-packages (from kaggle>=1.3.9->tf-models-official==2.3.0->tflite-model-maker) (2022.5.18.1)\n",
            "Requirement already satisfied: tqdm in /usr/local/lib/python3.7/dist-packages (from kaggle>=1.3.9->tf-models-official==2.3.0->tflite-model-maker) (4.64.0)\n",
            "Requirement already satisfied: python-slugify in /usr/local/lib/python3.7/dist-packages (from kaggle>=1.3.9->tf-models-official==2.3.0->tflite-model-maker) (6.1.2)\n",
            "Requirement already satisfied: pyparsing!=2.0.4,!=2.1.2,!=2.1.6,>=2.0.1 in /usr/local/lib/python3.7/dist-packages (from matplotlib<3.5.0,>=3.0.3->tflite-model-maker) (3.0.9)\n",
            "Requirement already satisfied: kiwisolver>=1.0.1 in /usr/local/lib/python3.7/dist-packages (from matplotlib<3.5.0,>=3.0.3->tflite-model-maker) (1.4.2)\n",
            "Requirement already satisfied: cycler>=0.10 in /usr/local/lib/python3.7/dist-packages (from matplotlib<3.5.0,>=3.0.3->tflite-model-maker) (0.11.0)\n",
            "Requirement already satisfied: attrs in /usr/local/lib/python3.7/dist-packages (from neural-structured-learning>=1.3.1->tflite-model-maker) (21.4.0)\n",
            "Requirement already satisfied: appdirs>=1.3.0 in /usr/local/lib/python3.7/dist-packages (from pooch>=1.0->librosa==0.8.1->tflite-model-maker) (1.4.4)\n",
            "Requirement already satisfied: pyasn1<0.5.0,>=0.4.6 in /usr/local/lib/python3.7/dist-packages (from pyasn1-modules>=0.2.1->google-auth<3dev,>=1.16.0->google-api-python-client>=1.6.7->tf-models-official==2.3.0->tflite-model-maker) (0.4.8)\n",
            "Requirement already satisfied: chardet<4,>=3.0.2 in /usr/local/lib/python3.7/dist-packages (from requests<3.0.0dev,>=2.18.0->google-api-core<3dev,>=1.21.0->google-api-python-client>=1.6.7->tf-models-official==2.3.0->tflite-model-maker) (3.0.4)\n",
            "Requirement already satisfied: idna<3,>=2.5 in /usr/local/lib/python3.7/dist-packages (from requests<3.0.0dev,>=2.18.0->google-api-core<3dev,>=1.21.0->google-api-python-client>=1.6.7->tf-models-official==2.3.0->tflite-model-maker) (2.10)\n",
            "Collecting tensorflow\n",
            "  Downloading tensorflow-2.9.1-cp37-cp37m-manylinux_2_17_x86_64.manylinux2014_x86_64.whl (511.7 MB)\n",
            "\u001b[K     |████████████████████████████████| 511.7 MB 6.1 kB/s \n",
            "\u001b[?25h  Downloading tensorflow-2.9.0-cp37-cp37m-manylinux_2_17_x86_64.manylinux2014_x86_64.whl (511.7 MB)\n",
            "\u001b[K     |████████████████████████████████| 511.7 MB 4.5 kB/s \n",
            "\u001b[?25hINFO: pip is looking at multiple versions of scann to determine which version is compatible with other requirements. This could take a while.\n",
            "Collecting scann>=1.2.6\n",
            "  Downloading scann-1.2.6-cp37-cp37m-manylinux2014_x86_64.whl (10.9 MB)\n",
            "\u001b[K     |████████████████████████████████| 10.9 MB 57.2 MB/s \n",
            "\u001b[?25hRequirement already satisfied: threadpoolctl>=2.0.0 in /usr/local/lib/python3.7/dist-packages (from scikit-learn!=0.19.0,>=0.14.0->librosa==0.8.1->tflite-model-maker) (3.1.0)\n",
            "Requirement already satisfied: cffi>=1.0 in /usr/local/lib/python3.7/dist-packages (from soundfile>=0.10.2->librosa==0.8.1->tflite-model-maker) (1.15.0)\n",
            "Requirement already satisfied: pycparser in /usr/local/lib/python3.7/dist-packages (from cffi>=1.0->soundfile>=0.10.2->librosa==0.8.1->tflite-model-maker) (2.21)\n",
            "Requirement already satisfied: werkzeug>=0.11.15 in /usr/local/lib/python3.7/dist-packages (from tensorboard<2.9,>=2.8->tensorflow) (1.0.1)\n",
            "Requirement already satisfied: google-auth-oauthlib<0.5,>=0.4.1 in /usr/local/lib/python3.7/dist-packages (from tensorboard<2.9,>=2.8->tensorflow) (0.4.6)\n",
            "Requirement already satisfied: markdown>=2.6.8 in /usr/local/lib/python3.7/dist-packages (from tensorboard<2.9,>=2.8->tensorflow) (3.3.7)\n",
            "Requirement already satisfied: tensorboard-data-server<0.7.0,>=0.6.0 in /usr/local/lib/python3.7/dist-packages (from tensorboard<2.9,>=2.8->tensorflow) (0.6.1)\n",
            "Requirement already satisfied: tensorboard-plugin-wit>=1.6.0 in /usr/local/lib/python3.7/dist-packages (from tensorboard<2.9,>=2.8->tensorflow) (1.8.1)\n",
            "Requirement already satisfied: requests-oauthlib>=0.7.0 in /usr/local/lib/python3.7/dist-packages (from google-auth-oauthlib<0.5,>=0.4.1->tensorboard<2.9,>=2.8->tensorflow) (1.3.1)\n",
            "Requirement already satisfied: importlib-metadata>=4.4 in /usr/local/lib/python3.7/dist-packages (from markdown>=2.6.8->tensorboard<2.9,>=2.8->tensorflow) (4.11.4)\n",
            "Requirement already satisfied: zipp>=0.5 in /usr/local/lib/python3.7/dist-packages (from importlib-metadata>=4.4->markdown>=2.6.8->tensorboard<2.9,>=2.8->tensorflow) (3.8.0)\n",
            "Requirement already satisfied: oauthlib>=3.0.0 in /usr/local/lib/python3.7/dist-packages (from requests-oauthlib>=0.7.0->google-auth-oauthlib<0.5,>=0.4.1->tensorboard<2.9,>=2.8->tensorflow) (3.2.0)\n",
            "Requirement already satisfied: typeguard>=2.7 in /usr/local/lib/python3.7/dist-packages (from tensorflow-addons>=0.11.2->tflite-model-maker) (2.7.1)\n",
            "Requirement already satisfied: dm-tree in /usr/local/lib/python3.7/dist-packages (from tensorflow-datasets>=2.1.0->tflite-model-maker) (0.1.7)\n",
            "Requirement already satisfied: promise in /usr/local/lib/python3.7/dist-packages (from tensorflow-datasets>=2.1.0->tflite-model-maker) (2.3)\n",
            "Requirement already satisfied: tensorflow-metadata in /usr/local/lib/python3.7/dist-packages (from tensorflow-datasets>=2.1.0->tflite-model-maker) (1.8.0)\n",
            "Requirement already satisfied: dill in /usr/local/lib/python3.7/dist-packages (from tensorflow-datasets>=2.1.0->tflite-model-maker) (0.3.5.1)\n",
            "Requirement already satisfied: future in /usr/local/lib/python3.7/dist-packages (from tensorflow-datasets>=2.1.0->tflite-model-maker) (0.16.0)\n",
            "Requirement already satisfied: importlib-resources in /usr/local/lib/python3.7/dist-packages (from tensorflow-datasets>=2.1.0->tflite-model-maker) (5.7.1)\n",
            "Collecting packaging>=20.0\n",
            "  Downloading packaging-20.9-py2.py3-none-any.whl (40 kB)\n",
            "\u001b[K     |████████████████████████████████| 40 kB 7.3 MB/s \n",
            "\u001b[?25hCollecting sounddevice>=0.4.4\n",
            "  Downloading sounddevice-0.4.4-py3-none-any.whl (31 kB)\n",
            "Collecting protobuf<3.20,>=3.9.2\n",
            "  Downloading protobuf-3.19.4-cp37-cp37m-manylinux_2_17_x86_64.manylinux2014_x86_64.whl (1.1 MB)\n",
            "\u001b[K     |████████████████████████████████| 1.1 MB 61.0 MB/s \n",
            "\u001b[?25hCollecting pybind11>=2.6.0\n",
            "  Downloading pybind11-2.9.2-py2.py3-none-any.whl (213 kB)\n",
            "\u001b[K     |████████████████████████████████| 213 kB 74.7 MB/s \n",
            "\u001b[?25hRequirement already satisfied: text-unidecode>=1.3 in /usr/local/lib/python3.7/dist-packages (from python-slugify->kaggle>=1.3.9->tf-models-official==2.3.0->tflite-model-maker) (1.3)\n",
            "Building wheels for collected packages: fire, py-cpuinfo\n",
            "  Building wheel for fire (setup.py) ... \u001b[?25l\u001b[?25hdone\n",
            "  Created wheel for fire: filename=fire-0.4.0-py2.py3-none-any.whl size=115942 sha256=2fa8b02ba65db0081ec3b08e3fde05b75b86040f66d56184c642379718cdb621\n",
            "  Stored in directory: /root/.cache/pip/wheels/8a/67/fb/2e8a12fa16661b9d5af1f654bd199366799740a85c64981226\n",
            "  Building wheel for py-cpuinfo (setup.py) ... \u001b[?25l\u001b[?25hdone\n",
            "  Created wheel for py-cpuinfo: filename=py_cpuinfo-8.0.0-py3-none-any.whl size=22257 sha256=8ef72790bc946a7946eab5fef164013a12e50819d0e248a9301c2e7ca5f3881c\n",
            "  Stored in directory: /root/.cache/pip/wheels/d2/f1/1f/041add21dc9c4220157f1bd2bd6afe1f1a49524c3396b94401\n",
            "Successfully built fire py-cpuinfo\n",
            "Installing collected packages: protobuf, packaging, llvmlite, numba, flatbuffers, tf-slim, tensorflow-model-optimization, tensorflow-addons, sounddevice, sentencepiece, PyYAML, pybind11, py-cpuinfo, opencv-python-headless, dataclasses, tflite-support, tf-models-official, tensorflowjs, scann, neural-structured-learning, lxml, fire, tflite-model-maker\n",
            "  Attempting uninstall: protobuf\n",
            "    Found existing installation: protobuf 3.17.3\n",
            "    Uninstalling protobuf-3.17.3:\n",
            "      Successfully uninstalled protobuf-3.17.3\n",
            "  Attempting uninstall: packaging\n",
            "    Found existing installation: packaging 21.3\n",
            "    Uninstalling packaging-21.3:\n",
            "      Successfully uninstalled packaging-21.3\n",
            "  Attempting uninstall: llvmlite\n",
            "    Found existing installation: llvmlite 0.34.0\n",
            "    Uninstalling llvmlite-0.34.0:\n",
            "      Successfully uninstalled llvmlite-0.34.0\n",
            "  Attempting uninstall: numba\n",
            "    Found existing installation: numba 0.51.2\n",
            "    Uninstalling numba-0.51.2:\n",
            "      Successfully uninstalled numba-0.51.2\n",
            "  Attempting uninstall: flatbuffers\n",
            "    Found existing installation: flatbuffers 2.0\n",
            "    Uninstalling flatbuffers-2.0:\n",
            "      Successfully uninstalled flatbuffers-2.0\n",
            "  Attempting uninstall: PyYAML\n",
            "    Found existing installation: PyYAML 3.13\n",
            "    Uninstalling PyYAML-3.13:\n",
            "      Successfully uninstalled PyYAML-3.13\n",
            "  Attempting uninstall: lxml\n",
            "    Found existing installation: lxml 4.2.6\n",
            "    Uninstalling lxml-4.2.6:\n",
            "      Successfully uninstalled lxml-4.2.6\n",
            "\u001b[31mERROR: pip's dependency resolver does not currently take into account all the packages that are installed. This behaviour is the source of the following dependency conflicts.\n",
            "datascience 0.10.6 requires folium==0.2.1, but you have folium 0.8.3 which is incompatible.\u001b[0m\n",
            "Successfully installed PyYAML-6.0 dataclasses-0.6 fire-0.4.0 flatbuffers-1.12 llvmlite-0.36.0 lxml-4.9.0 neural-structured-learning-1.3.1 numba-0.53.0 opencv-python-headless-4.6.0.66 packaging-20.9 protobuf-3.19.4 py-cpuinfo-8.0.0 pybind11-2.9.2 scann-1.2.6 sentencepiece-0.1.96 sounddevice-0.4.4 tensorflow-addons-0.17.1 tensorflow-model-optimization-0.7.2 tensorflowjs-3.18.0 tf-models-official-2.3.0 tf-slim-1.1.0 tflite-model-maker-0.4.0 tflite-support-0.4.1\n"
          ]
        },
        {
          "output_type": "display_data",
          "data": {
            "application/vnd.colab-display-data+json": {
              "pip_warning": {
                "packages": [
                  "dataclasses",
                  "flatbuffers",
                  "google",
                  "packaging"
                ]
              }
            }
          },
          "metadata": {}
        }
      ],
      "source": [
        "! pip install tflite-model-maker tensorflow"
      ]
    },
    {
      "cell_type": "code",
      "source": [
        "!sudo apt-get install libportaudio2"
      ],
      "metadata": {
        "colab": {
          "base_uri": "https://localhost:8080/"
        },
        "id": "2ZZ7KU-8tefp",
        "outputId": "6d95d3a8-ea7d-4e53-8aab-862c73d72534"
      },
      "execution_count": null,
      "outputs": [
        {
          "output_type": "stream",
          "name": "stdout",
          "text": [
            "Reading package lists... Done\n",
            "Building dependency tree       \n",
            "Reading state information... Done\n",
            "The following package was automatically installed and is no longer required:\n",
            "  libnvidia-common-460\n",
            "Use 'sudo apt autoremove' to remove it.\n",
            "The following NEW packages will be installed:\n",
            "  libportaudio2\n",
            "0 upgraded, 1 newly installed, 0 to remove and 42 not upgraded.\n",
            "Need to get 64.6 kB of archives.\n",
            "After this operation, 215 kB of additional disk space will be used.\n",
            "Get:1 http://archive.ubuntu.com/ubuntu bionic/universe amd64 libportaudio2 amd64 19.6.0-1 [64.6 kB]\n",
            "Fetched 64.6 kB in 0s (454 kB/s)\n",
            "debconf: unable to initialize frontend: Dialog\n",
            "debconf: (No usable dialog-like program is installed, so the dialog based frontend cannot be used. at /usr/share/perl5/Debconf/FrontEnd/Dialog.pm line 76, <> line 1.)\n",
            "debconf: falling back to frontend: Readline\n",
            "debconf: unable to initialize frontend: Readline\n",
            "debconf: (This frontend requires a controlling tty.)\n",
            "debconf: falling back to frontend: Teletype\n",
            "dpkg-preconfigure: unable to re-open stdin: \n",
            "Selecting previously unselected package libportaudio2:amd64.\n",
            "(Reading database ... 155629 files and directories currently installed.)\n",
            "Preparing to unpack .../libportaudio2_19.6.0-1_amd64.deb ...\n",
            "Unpacking libportaudio2:amd64 (19.6.0-1) ...\n",
            "Setting up libportaudio2:amd64 (19.6.0-1) ...\n",
            "Processing triggers for libc-bin (2.27-3ubuntu1.3) ...\n",
            "/sbin/ldconfig.real: /usr/local/lib/python3.7/dist-packages/ideep4py/lib/libmkldnn.so.0 is not a symbolic link\n",
            "\n"
          ]
        }
      ]
    },
    {
      "cell_type": "code",
      "execution_count": null,
      "metadata": {
        "colab": {
          "base_uri": "https://localhost:8080/"
        },
        "id": "ZubmBQpKsF6D",
        "outputId": "e71c9463-a5e7-43a3-ff49-5a76f5b3cb29"
      },
      "outputs": [
        {
          "output_type": "stream",
          "name": "stdout",
          "text": [
            "TensorFlow Version: 2.8.2\n",
            "Model Maker Version: 0.4.0\n"
          ]
        }
      ],
      "source": [
        "import tensorflow as tf\n",
        "import tflite_model_maker as mm\n",
        "from tflite_model_maker import audio_classifier\n",
        "import os\n",
        "\n",
        "import numpy as np\n",
        "import matplotlib.pyplot as plt\n",
        "import seaborn as sns\n",
        "\n",
        "import itertools\n",
        "import glob\n",
        "import random\n",
        "\n",
        "from IPython.display import Audio, Image\n",
        "from scipy.io import wavfile\n",
        "\n",
        "print(f\"TensorFlow Version: {tf.__version__}\")\n",
        "print(f\"Model Maker Version: {mm.__version__}\")"
      ]
    },
    {
      "cell_type": "code",
      "execution_count": null,
      "metadata": {
        "colab": {
          "base_uri": "https://localhost:8080/"
        },
        "id": "9NKJYxRUsUzK",
        "outputId": "ac40aa18-b586-4c04-eec2-d05dcf29a8cb"
      },
      "outputs": [
        {
          "output_type": "stream",
          "name": "stdout",
          "text": [
            "INFO:tensorflow:Checkpoints are stored in /tmp/tmp7uoh7y1u\n"
          ]
        }
      ],
      "source": [
        "spec = audio_classifier.YamNetSpec(\n",
        "    keep_yamnet_and_custom_heads=False,\n",
        "    frame_step=3 * audio_classifier.YamNetSpec.EXPECTED_WAVEFORM_LENGTH,\n",
        "    frame_length=6 * audio_classifier.YamNetSpec.EXPECTED_WAVEFORM_LENGTH)"
      ]
    },
    {
      "cell_type": "code",
      "execution_count": null,
      "metadata": {
        "id": "v9_DlIe8sk-m"
      },
      "outputs": [],
      "source": [
        "data_dir='/content/drive/MyDrive/Stethoscope/Dataset_2/Combined/Dataset_separated'"
      ]
    },
    {
      "cell_type": "code",
      "execution_count": null,
      "metadata": {
        "id": "Chs9w3ndtAaH"
      },
      "outputs": [],
      "source": [
        "data = audio_classifier.DataLoader.from_folder(\n",
        "    spec,data_dir, cache=True)"
      ]
    },
    {
      "cell_type": "code",
      "execution_count": null,
      "metadata": {
        "id": "C1RaZ8lltVLI"
      },
      "outputs": [],
      "source": [
        "train_data, val_data = data.split(0.8)"
      ]
    },
    {
      "cell_type": "code",
      "execution_count": null,
      "metadata": {
        "id": "ifSi9OPYtfkh"
      },
      "outputs": [],
      "source": [
        "validation_data,test_data=val_data.split(0.5)"
      ]
    },
    {
      "cell_type": "code",
      "execution_count": null,
      "metadata": {
        "colab": {
          "base_uri": "https://localhost:8080/"
        },
        "id": "bBQ00YZwt7-u",
        "outputId": "9b5ddaa2-96c3-44ef-c794-c49e298d8f1d"
      },
      "outputs": [
        {
          "output_type": "stream",
          "name": "stdout",
          "text": [
            "Training the model\n",
            "Model: \"sequential\"\n",
            "_________________________________________________________________\n",
            " Layer (type)                Output Shape              Param #   \n",
            "=================================================================\n",
            " classification_head (Dense)  (None, 2)                2050      \n",
            "                                                                 \n",
            "=================================================================\n",
            "Total params: 2,050\n",
            "Trainable params: 2,050\n",
            "Non-trainable params: 0\n",
            "_________________________________________________________________\n",
            "Epoch 1/150\n",
            "156/156 [==============================] - 2776s 17s/step - loss: 0.4921 - acc: 0.7487 - val_loss: 0.4097 - val_acc: 0.8452\n",
            "Epoch 2/150\n",
            "156/156 [==============================] - 2s 15ms/step - loss: 0.4029 - acc: 0.8217 - val_loss: 0.3644 - val_acc: 0.8652\n",
            "Epoch 3/150\n",
            "156/156 [==============================] - 2s 14ms/step - loss: 0.3733 - acc: 0.8367 - val_loss: 0.3464 - val_acc: 0.8726\n",
            "Epoch 4/150\n",
            "156/156 [==============================] - 2s 15ms/step - loss: 0.3584 - acc: 0.8480 - val_loss: 0.3347 - val_acc: 0.8789\n",
            "Epoch 5/150\n",
            "156/156 [==============================] - 2s 14ms/step - loss: 0.3489 - acc: 0.8542 - val_loss: 0.3230 - val_acc: 0.8820\n",
            "Epoch 6/150\n",
            "156/156 [==============================] - 3s 18ms/step - loss: 0.3414 - acc: 0.8561 - val_loss: 0.3187 - val_acc: 0.8812\n",
            "Epoch 7/150\n",
            "156/156 [==============================] - 2s 14ms/step - loss: 0.3370 - acc: 0.8598 - val_loss: 0.3138 - val_acc: 0.8848\n",
            "Epoch 8/150\n",
            "156/156 [==============================] - 2s 14ms/step - loss: 0.3348 - acc: 0.8597 - val_loss: 0.3094 - val_acc: 0.8859\n",
            "Epoch 9/150\n",
            "156/156 [==============================] - 2s 14ms/step - loss: 0.3312 - acc: 0.8614 - val_loss: 0.3009 - val_acc: 0.8855\n",
            "Epoch 10/150\n",
            "156/156 [==============================] - 2s 15ms/step - loss: 0.3293 - acc: 0.8603 - val_loss: 0.2990 - val_acc: 0.8871\n",
            "Epoch 11/150\n",
            "156/156 [==============================] - 2s 14ms/step - loss: 0.3292 - acc: 0.8622 - val_loss: 0.2921 - val_acc: 0.8875\n",
            "Epoch 12/150\n",
            "156/156 [==============================] - 2s 15ms/step - loss: 0.3275 - acc: 0.8616 - val_loss: 0.2942 - val_acc: 0.8891\n",
            "Epoch 13/150\n",
            "156/156 [==============================] - 3s 16ms/step - loss: 0.3223 - acc: 0.8639 - val_loss: 0.2917 - val_acc: 0.8906\n",
            "Epoch 14/150\n",
            "156/156 [==============================] - 2s 14ms/step - loss: 0.3192 - acc: 0.8658 - val_loss: 0.2873 - val_acc: 0.8930\n",
            "Epoch 15/150\n",
            "156/156 [==============================] - 2s 15ms/step - loss: 0.3197 - acc: 0.8659 - val_loss: 0.2882 - val_acc: 0.8926\n",
            "Epoch 16/150\n",
            "156/156 [==============================] - 2s 14ms/step - loss: 0.3194 - acc: 0.8641 - val_loss: 0.2850 - val_acc: 0.8934\n",
            "Epoch 17/150\n",
            "156/156 [==============================] - 2s 14ms/step - loss: 0.3176 - acc: 0.8660 - val_loss: 0.2838 - val_acc: 0.8934\n",
            "Epoch 18/150\n",
            "156/156 [==============================] - 2s 14ms/step - loss: 0.3193 - acc: 0.8661 - val_loss: 0.2799 - val_acc: 0.8934\n",
            "Epoch 19/150\n",
            "156/156 [==============================] - 2s 14ms/step - loss: 0.3218 - acc: 0.8628 - val_loss: 0.2865 - val_acc: 0.8918\n",
            "Epoch 20/150\n",
            "156/156 [==============================] - 2s 15ms/step - loss: 0.3213 - acc: 0.8641 - val_loss: 0.2789 - val_acc: 0.8934\n",
            "Epoch 21/150\n",
            "156/156 [==============================] - 2s 15ms/step - loss: 0.3176 - acc: 0.8663 - val_loss: 0.2782 - val_acc: 0.8934\n",
            "Epoch 22/150\n",
            "156/156 [==============================] - 2s 14ms/step - loss: 0.3183 - acc: 0.8646 - val_loss: 0.2769 - val_acc: 0.8946\n",
            "Epoch 23/150\n",
            "156/156 [==============================] - 2s 15ms/step - loss: 0.3180 - acc: 0.8662 - val_loss: 0.2742 - val_acc: 0.8949\n",
            "Epoch 24/150\n",
            "156/156 [==============================] - 2s 14ms/step - loss: 0.3186 - acc: 0.8655 - val_loss: 0.2745 - val_acc: 0.8946\n",
            "Epoch 25/150\n",
            "156/156 [==============================] - 2s 15ms/step - loss: 0.3190 - acc: 0.8651 - val_loss: 0.2744 - val_acc: 0.8942\n",
            "Epoch 26/150\n",
            "156/156 [==============================] - 2s 14ms/step - loss: 0.3155 - acc: 0.8674 - val_loss: 0.2711 - val_acc: 0.8946\n",
            "Epoch 27/150\n",
            "156/156 [==============================] - 2s 14ms/step - loss: 0.3143 - acc: 0.8677 - val_loss: 0.2733 - val_acc: 0.8949\n",
            "Epoch 28/150\n",
            "156/156 [==============================] - 2s 14ms/step - loss: 0.3188 - acc: 0.8672 - val_loss: 0.2767 - val_acc: 0.8953\n",
            "Epoch 29/150\n",
            "156/156 [==============================] - 2s 15ms/step - loss: 0.3166 - acc: 0.8656 - val_loss: 0.2775 - val_acc: 0.8961\n",
            "Epoch 30/150\n",
            "156/156 [==============================] - 2s 15ms/step - loss: 0.3123 - acc: 0.8698 - val_loss: 0.2733 - val_acc: 0.8946\n",
            "Epoch 31/150\n",
            "156/156 [==============================] - 2s 14ms/step - loss: 0.3165 - acc: 0.8652 - val_loss: 0.2709 - val_acc: 0.8969\n",
            "Epoch 32/150\n",
            "156/156 [==============================] - 2s 15ms/step - loss: 0.3147 - acc: 0.8671 - val_loss: 0.2730 - val_acc: 0.8961\n",
            "Epoch 33/150\n",
            "156/156 [==============================] - 2s 15ms/step - loss: 0.3117 - acc: 0.8683 - val_loss: 0.2724 - val_acc: 0.8965\n",
            "Epoch 34/150\n",
            "156/156 [==============================] - 2s 14ms/step - loss: 0.3140 - acc: 0.8672 - val_loss: 0.2715 - val_acc: 0.8957\n",
            "Epoch 35/150\n",
            "156/156 [==============================] - 2s 14ms/step - loss: 0.3156 - acc: 0.8656 - val_loss: 0.2713 - val_acc: 0.8977\n",
            "Epoch 36/150\n",
            "156/156 [==============================] - 2s 15ms/step - loss: 0.3149 - acc: 0.8668 - val_loss: 0.2713 - val_acc: 0.8957\n",
            "Epoch 37/150\n",
            "156/156 [==============================] - 2s 15ms/step - loss: 0.3152 - acc: 0.8666 - val_loss: 0.2731 - val_acc: 0.8957\n",
            "Epoch 38/150\n",
            "156/156 [==============================] - 3s 16ms/step - loss: 0.3102 - acc: 0.8666 - val_loss: 0.2698 - val_acc: 0.8953\n",
            "Epoch 39/150\n",
            "156/156 [==============================] - 2s 15ms/step - loss: 0.3163 - acc: 0.8667 - val_loss: 0.2739 - val_acc: 0.8961\n",
            "Epoch 40/150\n",
            "156/156 [==============================] - 2s 15ms/step - loss: 0.3136 - acc: 0.8674 - val_loss: 0.2722 - val_acc: 0.8961\n",
            "Epoch 41/150\n",
            "156/156 [==============================] - 2s 14ms/step - loss: 0.3141 - acc: 0.8680 - val_loss: 0.2681 - val_acc: 0.8965\n",
            "Epoch 42/150\n",
            "156/156 [==============================] - 3s 16ms/step - loss: 0.3135 - acc: 0.8686 - val_loss: 0.2727 - val_acc: 0.8957\n",
            "Epoch 43/150\n",
            "156/156 [==============================] - 2s 15ms/step - loss: 0.3144 - acc: 0.8662 - val_loss: 0.2747 - val_acc: 0.8957\n",
            "Epoch 44/150\n",
            "156/156 [==============================] - 2s 15ms/step - loss: 0.3115 - acc: 0.8682 - val_loss: 0.2706 - val_acc: 0.8949\n",
            "Epoch 45/150\n",
            "156/156 [==============================] - 2s 15ms/step - loss: 0.3108 - acc: 0.8695 - val_loss: 0.2667 - val_acc: 0.8969\n",
            "Epoch 46/150\n",
            "156/156 [==============================] - 2s 15ms/step - loss: 0.3143 - acc: 0.8644 - val_loss: 0.2664 - val_acc: 0.8977\n",
            "Epoch 47/150\n",
            "156/156 [==============================] - 2s 14ms/step - loss: 0.3142 - acc: 0.8669 - val_loss: 0.2702 - val_acc: 0.8969\n",
            "Epoch 48/150\n",
            "156/156 [==============================] - 2s 14ms/step - loss: 0.3143 - acc: 0.8640 - val_loss: 0.2712 - val_acc: 0.8961\n",
            "Epoch 49/150\n",
            "156/156 [==============================] - 3s 16ms/step - loss: 0.3175 - acc: 0.8663 - val_loss: 0.2673 - val_acc: 0.8969\n",
            "Epoch 50/150\n",
            "156/156 [==============================] - 2s 15ms/step - loss: 0.3147 - acc: 0.8663 - val_loss: 0.2674 - val_acc: 0.8957\n",
            "Epoch 51/150\n",
            "156/156 [==============================] - 2s 16ms/step - loss: 0.3146 - acc: 0.8667 - val_loss: 0.2761 - val_acc: 0.8961\n",
            "Epoch 52/150\n",
            "156/156 [==============================] - 2s 14ms/step - loss: 0.3121 - acc: 0.8679 - val_loss: 0.2735 - val_acc: 0.8985\n",
            "Epoch 53/150\n",
            "156/156 [==============================] - 2s 14ms/step - loss: 0.3126 - acc: 0.8689 - val_loss: 0.2734 - val_acc: 0.8969\n",
            "Epoch 54/150\n",
            "156/156 [==============================] - 2s 15ms/step - loss: 0.3156 - acc: 0.8671 - val_loss: 0.2704 - val_acc: 0.8973\n",
            "Epoch 55/150\n",
            "156/156 [==============================] - 2s 15ms/step - loss: 0.3108 - acc: 0.8675 - val_loss: 0.2655 - val_acc: 0.8996\n",
            "Epoch 56/150\n",
            "156/156 [==============================] - 2s 15ms/step - loss: 0.3187 - acc: 0.8639 - val_loss: 0.2645 - val_acc: 0.8973\n",
            "Epoch 57/150\n",
            "156/156 [==============================] - 3s 17ms/step - loss: 0.3130 - acc: 0.8659 - val_loss: 0.2719 - val_acc: 0.8969\n",
            "Epoch 58/150\n",
            "156/156 [==============================] - 2s 14ms/step - loss: 0.3151 - acc: 0.8677 - val_loss: 0.2698 - val_acc: 0.8981\n",
            "Epoch 59/150\n",
            "156/156 [==============================] - 2s 15ms/step - loss: 0.3131 - acc: 0.8672 - val_loss: 0.2669 - val_acc: 0.8973\n",
            "Epoch 60/150\n",
            "156/156 [==============================] - 2s 15ms/step - loss: 0.3103 - acc: 0.8689 - val_loss: 0.2645 - val_acc: 0.8985\n",
            "Epoch 61/150\n",
            "156/156 [==============================] - 2s 15ms/step - loss: 0.3130 - acc: 0.8674 - val_loss: 0.2716 - val_acc: 0.8973\n",
            "Epoch 62/150\n",
            "156/156 [==============================] - 2s 14ms/step - loss: 0.3138 - acc: 0.8656 - val_loss: 0.2723 - val_acc: 0.8969\n",
            "Epoch 63/150\n",
            "156/156 [==============================] - 2s 14ms/step - loss: 0.3139 - acc: 0.8683 - val_loss: 0.2677 - val_acc: 0.8961\n",
            "Epoch 64/150\n",
            "156/156 [==============================] - 2s 15ms/step - loss: 0.3149 - acc: 0.8674 - val_loss: 0.2662 - val_acc: 0.8977\n",
            "Epoch 65/150\n",
            "156/156 [==============================] - 2s 15ms/step - loss: 0.3136 - acc: 0.8692 - val_loss: 0.2729 - val_acc: 0.8985\n",
            "Epoch 66/150\n",
            "156/156 [==============================] - 2s 15ms/step - loss: 0.3125 - acc: 0.8681 - val_loss: 0.2768 - val_acc: 0.8957\n",
            "Epoch 67/150\n",
            "156/156 [==============================] - 2s 15ms/step - loss: 0.3129 - acc: 0.8684 - val_loss: 0.2669 - val_acc: 0.8977\n",
            "Epoch 68/150\n",
            "156/156 [==============================] - 2s 15ms/step - loss: 0.3141 - acc: 0.8658 - val_loss: 0.2673 - val_acc: 0.8985\n",
            "Epoch 69/150\n",
            "156/156 [==============================] - 2s 15ms/step - loss: 0.3161 - acc: 0.8648 - val_loss: 0.2663 - val_acc: 0.8965\n",
            "Epoch 70/150\n",
            "156/156 [==============================] - 2s 15ms/step - loss: 0.3128 - acc: 0.8680 - val_loss: 0.2690 - val_acc: 0.8977\n",
            "Epoch 71/150\n",
            "156/156 [==============================] - 2s 15ms/step - loss: 0.3121 - acc: 0.8666 - val_loss: 0.2684 - val_acc: 0.8973\n",
            "Epoch 72/150\n",
            "156/156 [==============================] - 2s 15ms/step - loss: 0.3114 - acc: 0.8673 - val_loss: 0.2680 - val_acc: 0.8977\n",
            "Epoch 73/150\n",
            "156/156 [==============================] - 2s 15ms/step - loss: 0.3100 - acc: 0.8680 - val_loss: 0.2623 - val_acc: 0.8965\n",
            "Epoch 74/150\n",
            "156/156 [==============================] - 2s 15ms/step - loss: 0.3110 - acc: 0.8683 - val_loss: 0.2690 - val_acc: 0.8989\n",
            "Epoch 75/150\n",
            "156/156 [==============================] - 2s 14ms/step - loss: 0.3173 - acc: 0.8645 - val_loss: 0.2676 - val_acc: 0.8981\n",
            "Epoch 76/150\n",
            "156/156 [==============================] - 2s 15ms/step - loss: 0.3150 - acc: 0.8664 - val_loss: 0.2693 - val_acc: 0.8977\n",
            "Epoch 77/150\n",
            "156/156 [==============================] - 2s 15ms/step - loss: 0.3138 - acc: 0.8661 - val_loss: 0.2652 - val_acc: 0.8985\n",
            "Epoch 78/150\n",
            "156/156 [==============================] - 2s 15ms/step - loss: 0.3150 - acc: 0.8656 - val_loss: 0.2673 - val_acc: 0.8996\n",
            "Epoch 79/150\n",
            "156/156 [==============================] - 2s 14ms/step - loss: 0.3127 - acc: 0.8647 - val_loss: 0.2656 - val_acc: 0.8993\n",
            "Epoch 80/150\n",
            "156/156 [==============================] - 2s 15ms/step - loss: 0.3151 - acc: 0.8652 - val_loss: 0.2710 - val_acc: 0.8989\n",
            "Epoch 81/150\n",
            "156/156 [==============================] - 2s 14ms/step - loss: 0.3102 - acc: 0.8704 - val_loss: 0.2676 - val_acc: 0.8977\n",
            "Epoch 82/150\n",
            "156/156 [==============================] - 2s 15ms/step - loss: 0.3105 - acc: 0.8662 - val_loss: 0.2649 - val_acc: 0.8985\n",
            "Epoch 83/150\n",
            "156/156 [==============================] - 2s 14ms/step - loss: 0.3145 - acc: 0.8678 - val_loss: 0.2636 - val_acc: 0.8977\n",
            "Epoch 84/150\n",
            "156/156 [==============================] - 2s 16ms/step - loss: 0.3155 - acc: 0.8662 - val_loss: 0.2676 - val_acc: 0.8977\n",
            "Epoch 85/150\n",
            "156/156 [==============================] - 2s 14ms/step - loss: 0.3103 - acc: 0.8686 - val_loss: 0.2690 - val_acc: 0.8977\n",
            "Epoch 86/150\n",
            "156/156 [==============================] - 2s 15ms/step - loss: 0.3130 - acc: 0.8671 - val_loss: 0.2700 - val_acc: 0.8993\n",
            "Epoch 87/150\n",
            "156/156 [==============================] - 2s 15ms/step - loss: 0.3130 - acc: 0.8686 - val_loss: 0.2647 - val_acc: 0.8977\n",
            "Epoch 88/150\n",
            "156/156 [==============================] - 3s 16ms/step - loss: 0.3132 - acc: 0.8672 - val_loss: 0.2670 - val_acc: 0.8981\n",
            "Epoch 89/150\n",
            "156/156 [==============================] - 3s 16ms/step - loss: 0.3139 - acc: 0.8693 - val_loss: 0.2658 - val_acc: 0.8996\n",
            "Epoch 90/150\n",
            "156/156 [==============================] - 2s 14ms/step - loss: 0.3173 - acc: 0.8654 - val_loss: 0.2672 - val_acc: 0.8989\n",
            "Epoch 91/150\n",
            "156/156 [==============================] - 2s 14ms/step - loss: 0.3153 - acc: 0.8654 - val_loss: 0.2732 - val_acc: 0.8985\n",
            "Epoch 92/150\n",
            "156/156 [==============================] - 2s 15ms/step - loss: 0.3095 - acc: 0.8694 - val_loss: 0.2713 - val_acc: 0.8977\n",
            "Epoch 93/150\n",
            "156/156 [==============================] - 2s 15ms/step - loss: 0.3131 - acc: 0.8682 - val_loss: 0.2686 - val_acc: 0.8973\n",
            "Epoch 94/150\n",
            "156/156 [==============================] - 3s 16ms/step - loss: 0.3104 - acc: 0.8675 - val_loss: 0.2721 - val_acc: 0.8973\n",
            "Epoch 95/150\n",
            "156/156 [==============================] - 2s 15ms/step - loss: 0.3138 - acc: 0.8673 - val_loss: 0.2713 - val_acc: 0.8969\n",
            "Epoch 96/150\n",
            "156/156 [==============================] - 2s 15ms/step - loss: 0.3118 - acc: 0.8667 - val_loss: 0.2689 - val_acc: 0.8973\n",
            "Epoch 97/150\n",
            "156/156 [==============================] - 2s 15ms/step - loss: 0.3149 - acc: 0.8678 - val_loss: 0.2702 - val_acc: 0.8993\n",
            "Epoch 98/150\n",
            "156/156 [==============================] - 2s 16ms/step - loss: 0.3162 - acc: 0.8653 - val_loss: 0.2651 - val_acc: 0.8989\n",
            "Epoch 99/150\n",
            "156/156 [==============================] - 2s 15ms/step - loss: 0.3123 - acc: 0.8670 - val_loss: 0.2678 - val_acc: 0.8977\n",
            "Epoch 100/150\n",
            "156/156 [==============================] - 3s 16ms/step - loss: 0.3125 - acc: 0.8680 - val_loss: 0.2649 - val_acc: 0.8993\n",
            "Epoch 101/150\n",
            "156/156 [==============================] - 2s 14ms/step - loss: 0.3160 - acc: 0.8654 - val_loss: 0.2631 - val_acc: 0.8985\n",
            "Epoch 102/150\n",
            "156/156 [==============================] - 3s 16ms/step - loss: 0.3075 - acc: 0.8701 - val_loss: 0.2681 - val_acc: 0.8996\n",
            "Epoch 103/150\n",
            "156/156 [==============================] - 2s 15ms/step - loss: 0.3156 - acc: 0.8639 - val_loss: 0.2719 - val_acc: 0.9004\n",
            "Epoch 104/150\n",
            "156/156 [==============================] - 3s 16ms/step - loss: 0.3113 - acc: 0.8680 - val_loss: 0.2638 - val_acc: 0.8985\n",
            "Epoch 105/150\n",
            "156/156 [==============================] - 2s 14ms/step - loss: 0.3161 - acc: 0.8642 - val_loss: 0.2727 - val_acc: 0.9004\n",
            "Epoch 106/150\n",
            "156/156 [==============================] - 2s 14ms/step - loss: 0.3118 - acc: 0.8681 - val_loss: 0.2689 - val_acc: 0.8977\n",
            "Epoch 107/150\n",
            "156/156 [==============================] - 2s 15ms/step - loss: 0.3136 - acc: 0.8680 - val_loss: 0.2674 - val_acc: 0.9004\n",
            "Epoch 108/150\n",
            "156/156 [==============================] - 2s 16ms/step - loss: 0.3135 - acc: 0.8650 - val_loss: 0.2665 - val_acc: 0.8985\n",
            "Epoch 109/150\n",
            "156/156 [==============================] - 2s 15ms/step - loss: 0.3188 - acc: 0.8646 - val_loss: 0.2666 - val_acc: 0.8977\n",
            "Epoch 110/150\n",
            "156/156 [==============================] - 3s 16ms/step - loss: 0.3118 - acc: 0.8646 - val_loss: 0.2699 - val_acc: 0.8981\n",
            "Epoch 111/150\n",
            "156/156 [==============================] - 3s 18ms/step - loss: 0.3119 - acc: 0.8691 - val_loss: 0.2646 - val_acc: 0.8973\n",
            "Epoch 112/150\n",
            "156/156 [==============================] - 2s 15ms/step - loss: 0.3150 - acc: 0.8667 - val_loss: 0.2730 - val_acc: 0.9004\n",
            "Epoch 113/150\n",
            "156/156 [==============================] - 2s 15ms/step - loss: 0.3141 - acc: 0.8657 - val_loss: 0.2672 - val_acc: 0.8981\n",
            "Epoch 114/150\n",
            "156/156 [==============================] - 2s 15ms/step - loss: 0.3141 - acc: 0.8668 - val_loss: 0.2688 - val_acc: 0.8969\n",
            "Epoch 115/150\n",
            "156/156 [==============================] - 2s 15ms/step - loss: 0.3140 - acc: 0.8656 - val_loss: 0.2684 - val_acc: 0.8977\n",
            "Epoch 116/150\n",
            "156/156 [==============================] - 2s 14ms/step - loss: 0.3143 - acc: 0.8655 - val_loss: 0.2670 - val_acc: 0.8989\n",
            "Epoch 117/150\n",
            "156/156 [==============================] - 2s 16ms/step - loss: 0.3138 - acc: 0.8662 - val_loss: 0.2670 - val_acc: 0.8973\n",
            "Epoch 118/150\n",
            "156/156 [==============================] - 2s 15ms/step - loss: 0.3141 - acc: 0.8658 - val_loss: 0.2689 - val_acc: 0.8981\n",
            "Epoch 119/150\n",
            "156/156 [==============================] - 2s 15ms/step - loss: 0.3129 - acc: 0.8695 - val_loss: 0.2660 - val_acc: 0.8981\n",
            "Epoch 120/150\n",
            "156/156 [==============================] - 2s 15ms/step - loss: 0.3124 - acc: 0.8674 - val_loss: 0.2647 - val_acc: 0.8981\n",
            "Epoch 121/150\n",
            "156/156 [==============================] - 2s 15ms/step - loss: 0.3183 - acc: 0.8653 - val_loss: 0.2660 - val_acc: 0.8973\n",
            "Epoch 122/150\n",
            "156/156 [==============================] - 2s 14ms/step - loss: 0.3117 - acc: 0.8690 - val_loss: 0.2661 - val_acc: 0.8985\n",
            "Epoch 123/150\n",
            "156/156 [==============================] - 2s 14ms/step - loss: 0.3156 - acc: 0.8665 - val_loss: 0.2696 - val_acc: 0.8989\n",
            "Epoch 124/150\n",
            "156/156 [==============================] - 2s 15ms/step - loss: 0.3145 - acc: 0.8665 - val_loss: 0.2672 - val_acc: 0.8981\n",
            "Epoch 125/150\n",
            "156/156 [==============================] - 2s 15ms/step - loss: 0.3126 - acc: 0.8652 - val_loss: 0.2657 - val_acc: 0.8977\n",
            "Epoch 126/150\n",
            "156/156 [==============================] - 2s 15ms/step - loss: 0.3139 - acc: 0.8673 - val_loss: 0.2675 - val_acc: 0.8973\n",
            "Epoch 127/150\n",
            "156/156 [==============================] - 3s 16ms/step - loss: 0.3111 - acc: 0.8676 - val_loss: 0.2682 - val_acc: 0.8981\n",
            "Epoch 128/150\n",
            "156/156 [==============================] - 2s 16ms/step - loss: 0.3104 - acc: 0.8697 - val_loss: 0.2660 - val_acc: 0.8953\n",
            "Epoch 129/150\n",
            "156/156 [==============================] - 2s 14ms/step - loss: 0.3154 - acc: 0.8658 - val_loss: 0.2673 - val_acc: 0.8957\n",
            "Epoch 130/150\n",
            "156/156 [==============================] - 3s 15ms/step - loss: 0.3161 - acc: 0.8662 - val_loss: 0.2683 - val_acc: 0.8989\n",
            "Epoch 131/150\n",
            "156/156 [==============================] - 2s 15ms/step - loss: 0.3161 - acc: 0.8670 - val_loss: 0.2685 - val_acc: 0.8981\n",
            "Epoch 132/150\n",
            "156/156 [==============================] - 2s 15ms/step - loss: 0.3136 - acc: 0.8660 - val_loss: 0.2723 - val_acc: 0.8985\n",
            "Epoch 133/150\n",
            "156/156 [==============================] - 2s 14ms/step - loss: 0.3164 - acc: 0.8671 - val_loss: 0.2635 - val_acc: 0.8985\n",
            "Epoch 134/150\n",
            "156/156 [==============================] - 2s 15ms/step - loss: 0.3133 - acc: 0.8667 - val_loss: 0.2644 - val_acc: 0.8973\n",
            "Epoch 135/150\n",
            "156/156 [==============================] - 2s 14ms/step - loss: 0.3137 - acc: 0.8660 - val_loss: 0.2649 - val_acc: 0.8977\n",
            "Epoch 136/150\n",
            "156/156 [==============================] - 2s 14ms/step - loss: 0.3105 - acc: 0.8672 - val_loss: 0.2681 - val_acc: 0.8949\n",
            "Epoch 137/150\n",
            "156/156 [==============================] - 2s 14ms/step - loss: 0.3132 - acc: 0.8667 - val_loss: 0.2675 - val_acc: 0.8977\n",
            "Epoch 138/150\n",
            "156/156 [==============================] - 2s 14ms/step - loss: 0.3078 - acc: 0.8693 - val_loss: 0.2691 - val_acc: 0.8993\n",
            "Epoch 139/150\n",
            "156/156 [==============================] - 2s 15ms/step - loss: 0.3153 - acc: 0.8643 - val_loss: 0.2671 - val_acc: 0.8973\n",
            "Epoch 140/150\n",
            "156/156 [==============================] - 2s 14ms/step - loss: 0.3077 - acc: 0.8707 - val_loss: 0.2638 - val_acc: 0.8989\n",
            "Epoch 141/150\n",
            "156/156 [==============================] - 2s 14ms/step - loss: 0.3137 - acc: 0.8655 - val_loss: 0.2647 - val_acc: 0.8993\n",
            "Epoch 142/150\n",
            "156/156 [==============================] - 3s 16ms/step - loss: 0.3114 - acc: 0.8657 - val_loss: 0.2667 - val_acc: 0.8993\n",
            "Epoch 143/150\n",
            "156/156 [==============================] - 2s 15ms/step - loss: 0.3135 - acc: 0.8662 - val_loss: 0.2684 - val_acc: 0.8985\n",
            "Epoch 144/150\n",
            "156/156 [==============================] - 2s 15ms/step - loss: 0.3114 - acc: 0.8710 - val_loss: 0.2681 - val_acc: 0.8977\n",
            "Epoch 145/150\n",
            "156/156 [==============================] - 2s 14ms/step - loss: 0.3100 - acc: 0.8668 - val_loss: 0.2694 - val_acc: 0.9020\n",
            "Epoch 146/150\n",
            "156/156 [==============================] - 2s 15ms/step - loss: 0.3143 - acc: 0.8686 - val_loss: 0.2659 - val_acc: 0.8969\n",
            "Epoch 147/150\n",
            "156/156 [==============================] - 3s 16ms/step - loss: 0.3104 - acc: 0.8687 - val_loss: 0.2674 - val_acc: 0.8985\n",
            "Epoch 148/150\n",
            "156/156 [==============================] - 3s 16ms/step - loss: 0.3107 - acc: 0.8673 - val_loss: 0.2660 - val_acc: 0.8969\n",
            "Epoch 149/150\n",
            "156/156 [==============================] - 2s 15ms/step - loss: 0.3110 - acc: 0.8690 - val_loss: 0.2669 - val_acc: 0.8961\n",
            "Epoch 150/150\n",
            "156/156 [==============================] - 2s 15ms/step - loss: 0.3086 - acc: 0.8688 - val_loss: 0.2646 - val_acc: 0.8981\n"
          ]
        }
      ],
      "source": [
        "batch_size = 128\n",
        "epochs = 150\n",
        "\n",
        "print('Training the model')\n",
        "model = audio_classifier.create(\n",
        "    train_data,\n",
        "    spec,\n",
        "    validation_data,\n",
        "    batch_size=batch_size,\n",
        "    epochs=epochs)"
      ]
    },
    {
      "cell_type": "code",
      "execution_count": null,
      "metadata": {
        "colab": {
          "base_uri": "https://localhost:8080/"
        },
        "id": "XiVRcWs9vN14",
        "outputId": "8a70c869-8ca9-4e05-e06c-5dbfa5b1e424"
      },
      "outputs": [
        {
          "output_type": "stream",
          "name": "stdout",
          "text": [
            "Evaluating the model\n",
            "77/77 [==============================] - 275s 4s/step - loss: 0.3082 - acc: 0.8741\n"
          ]
        },
        {
          "output_type": "execute_result",
          "data": {
            "text/plain": [
              "[0.3082316815853119, 0.8740860819816589]"
            ]
          },
          "metadata": {},
          "execution_count": 10
        }
      ],
      "source": [
        "print('Evaluating the model')\n",
        "model.evaluate(test_data)"
      ]
    },
    {
      "cell_type": "code",
      "execution_count": null,
      "metadata": {
        "colab": {
          "base_uri": "https://localhost:8080/",
          "height": 295
        },
        "id": "sCdcebltw_ag",
        "outputId": "8aa860ab-c15e-4b30-cd21-18851ca48a77"
      },
      "outputs": [
        {
          "output_type": "display_data",
          "data": {
            "text/plain": [
              "<Figure size 432x288 with 2 Axes>"
            ],
            "image/png": "[encoded data removed]"
          },
          "metadata": {
            "needs_background": "light"
          }
        }
      ],
      "source": [
        "def show_confusion_matrix(confusion, test_labels):\n",
        "  \"\"\"Compute confusion matrix and normalize.\"\"\"\n",
        "  confusion_normalized = confusion.astype(\"float\") / confusion.sum(axis=1)\n",
        "  axis_labels = test_labels\n",
        "  ax = sns.heatmap(\n",
        "      confusion_normalized, xticklabels=axis_labels, yticklabels=axis_labels,\n",
        "      cmap='Blues', annot=True, fmt='.2f', square=True)\n",
        "  plt.title(\"Confusion matrix\")\n",
        "  plt.ylabel(\"True label\")\n",
        "  plt.xlabel(\"Predicted label\")\n",
        "\n",
        "confusion_matrix = model.confusion_matrix(test_data)\n",
        "show_confusion_matrix(confusion_matrix.numpy(), test_data.index_to_label)"
      ]
    },
    {
      "cell_type": "code",
      "execution_count": null,
      "metadata": {
        "id": "cPJgpJJNxQrI"
      },
      "outputs": [],
      "source": [
        "serving_model = model.create_serving_model()\n",
        "\n",
        "print(f'Model\\'s input shape and type: {serving_model.inputs}')\n",
        "print(f'Model\\'s output shape and type: {serving_model.outputs}')"
      ]
    },
    {
      "cell_type": "code",
      "execution_count": null,
      "metadata": {
        "id": "FIMnmo1Qxgh5"
      },
      "outputs": [],
      "source": [
        "random_audio='/content/drive/MyDrive/Stethoscope/Dataset_2/Combined/Dataset_separated/Normal /a0007.wav'"
      ]
    },
    {
      "cell_type": "code",
      "execution_count": null,
      "metadata": {
        "id": "pxY1FkBixfg3"
      },
      "outputs": [],
      "source": [
        "sample_rate, audio_data = wavfile.read(random_audio, 'rb')\n",
        "\n",
        "audio_data = np.array(audio_data) / tf.int16.max\n",
        "input_size = serving_model.input_shape[1]\n",
        "\n",
        "splitted_audio_data = tf.signal.frame(audio_data, input_size, input_size, pad_end=True, pad_value=0)\n",
        "\n",
        "print(f'Test audio path: {random_audio}')\n",
        "print(f'Original size of the audio data: {len(audio_data)}')\n",
        "print(f'Number of windows for inference: {len(splitted_audio_data)}')"
      ]
    },
    {
      "cell_type": "code",
      "execution_count": null,
      "metadata": {
        "id": "p-vdZ18oxvqX"
      },
      "outputs": [],
      "source": [
        "print(random_audio)\n",
        "\n",
        "results = []\n",
        "print('Result of the window ith:  your model class -> score,  (spec class -> score)')\n",
        "for i, data in enumerate(splitted_audio_data):\n",
        "  yamnet_output, inference = serving_model(data)\n",
        "  results.append(inference[0].numpy())\n",
        "  result_index = tf.argmax(inference[0])\n",
        "  spec_result_index = tf.argmax(yamnet_output[0])\n",
        "  t = spec._yamnet_labels()[spec_result_index]\n",
        "  result_str = f'Result of the window {i}: ' \\\n",
        "  f'\\t{test_data.index_to_label[result_index]} -> {inference[0][result_index].numpy():.3f}, ' \\\n",
        "  f'\\t({spec._yamnet_labels()[spec_result_index]} -> {yamnet_output[0][spec_result_index]:.3f})'\n",
        "  print(result_str)\n",
        "\n",
        "\n",
        "results_np = np.array(results)\n",
        "mean_results = results_np.mean(axis=0)\n",
        "result_index = mean_results.argmax()\n",
        "print(f'Mean result: {test_data.index_to_label[result_index]} -> {mean_results[result_index]}')"
      ]
    },
    {
      "cell_type": "code",
      "execution_count": null,
      "metadata": {
        "colab": {
          "base_uri": "https://localhost:8080/"
        },
        "id": "ST5FPNtByb_F",
        "outputId": "f27ebc8b-a6fc-4229-9706-2db9a90a92e6"
      },
      "outputs": [
        {
          "output_type": "stream",
          "name": "stdout",
          "text": [
            "Exporing the TFLite model to /content/drive/MyDrive/Stethoscope\n",
            "INFO:tensorflow:Assets written to: /tmp/tmp4nxxr6xo/assets\n"
          ]
        },
        {
          "output_type": "stream",
          "name": "stderr",
          "text": [
            "INFO:tensorflow:Assets written to: /tmp/tmp4nxxr6xo/assets\n"
          ]
        },
        {
          "output_type": "stream",
          "name": "stdout",
          "text": [
            "INFO:tensorflow:TensorFlow Lite model exported successfully: /content/drive/MyDrive/Stethoscope/my_audio_model.tflite\n"
          ]
        },
        {
          "output_type": "stream",
          "name": "stderr",
          "text": [
            "INFO:tensorflow:TensorFlow Lite model exported successfully: /content/drive/MyDrive/Stethoscope/my_audio_model.tflite\n"
          ]
        }
      ],
      "source": [
        "models_path = '/content/drive/MyDrive/Stethoscope'\n",
        "print(f'Exporing the TFLite model to {models_path}')\n",
        "\n",
        "model.export(models_path, tflite_filename='my_audio_model.tflite')"
      ]
    },
    {
      "cell_type": "code",
      "execution_count": null,
      "metadata": {
        "id": "StRl_sMRyuUz",
        "colab": {
          "base_uri": "https://localhost:8080/"
        },
        "outputId": "6c0a30b8-511d-439a-ff74-107b7532cc35"
      },
      "outputs": [
        {
          "output_type": "stream",
          "name": "stdout",
          "text": [
            "WARNING:tensorflow:Compiled the loaded model, but the compiled metrics have yet to be built. `model.compile_metrics` will be empty until you train or evaluate the model.\n"
          ]
        },
        {
          "output_type": "stream",
          "name": "stderr",
          "text": [
            "WARNING:tensorflow:Compiled the loaded model, but the compiled metrics have yet to be built. `model.compile_metrics` will be empty until you train or evaluate the model.\n"
          ]
        },
        {
          "output_type": "stream",
          "name": "stdout",
          "text": [
            "INFO:tensorflow:Assets written to: /content/drive/MyDrive/Stethoscope/saved_model/assets\n"
          ]
        },
        {
          "output_type": "stream",
          "name": "stderr",
          "text": [
            "INFO:tensorflow:Assets written to: /content/drive/MyDrive/Stethoscope/saved_model/assets\n"
          ]
        },
        {
          "output_type": "stream",
          "name": "stdout",
          "text": [
            "INFO:tensorflow:Saving labels in /content/drive/MyDrive/Stethoscope/labels.txt\n"
          ]
        },
        {
          "output_type": "stream",
          "name": "stderr",
          "text": [
            "INFO:tensorflow:Saving labels in /content/drive/MyDrive/Stethoscope/labels.txt\n"
          ]
        }
      ],
      "source": [
        "model.export(models_path, export_format=[mm.ExportFormat.SAVED_MODEL, mm.ExportFormat.LABEL])"
      ]
    }
  ],
  "metadata": {
    "accelerator": "GPU",
    "colab": {
      "collapsed_sections": [],
      "name": "tflite.ipynb",
      "provenance": []
    },
    "kernelspec": {
      "display_name": "Python 3",
      "name": "python3"
    },
    "language_info": {
      "name": "python"
    }
  },
  "nbformat": 4,
  "nbformat_minor": 0
}